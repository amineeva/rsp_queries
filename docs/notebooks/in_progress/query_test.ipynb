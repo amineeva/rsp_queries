{
 "cells": [
  {
   "cell_type": "code",
   "execution_count": 1,
   "id": "146359e6-dc1a-4c63-9d55-91045607fc4b",
   "metadata": {
    "execution": {
     "iopub.execute_input": "2025-07-18T13:16:49.613093Z",
     "iopub.status.busy": "2025-07-18T13:16:49.612897Z",
     "iopub.status.idle": "2025-07-18T13:16:50.678371Z",
     "shell.execute_reply": "2025-07-18T13:16:50.677750Z",
     "shell.execute_reply.started": "2025-07-18T13:16:49.613075Z"
    }
   },
   "outputs": [],
   "source": [
    "import numpy as np\n",
    "import matplotlib.pyplot as plt\n",
    "import pandas as pd\n",
    "from lsst.rsp import get_tap_service\n",
    "sys.path.append(os.path.abspath('../../../sso_query/'))\n",
    "import query as q\n",
    "import query_helpers as qh"
   ]
  },
  {
   "cell_type": "code",
   "execution_count": 2,
   "id": "e7677ec9-11c6-45a4-a06a-0e043c70a8b4",
   "metadata": {
    "execution": {
     "iopub.execute_input": "2025-07-18T13:14:47.871307Z",
     "iopub.status.busy": "2025-07-18T13:14:47.871102Z",
     "iopub.status.idle": "2025-07-18T13:14:48.077669Z",
     "shell.execute_reply": "2025-07-18T13:14:48.076941Z",
     "shell.execute_reply.started": "2025-07-18T13:14:47.871288Z"
    }
   },
   "outputs": [
    {
     "data": {
      "text/html": [
       "<div>\n",
       "<style scoped>\n",
       "    .dataframe tbody tr th:only-of-type {\n",
       "        vertical-align: middle;\n",
       "    }\n",
       "\n",
       "    .dataframe tbody tr th {\n",
       "        vertical-align: top;\n",
       "    }\n",
       "\n",
       "    .dataframe thead th {\n",
       "        text-align: right;\n",
       "    }\n",
       "</style>\n",
       "<table border=\"1\" class=\"dataframe\">\n",
       "  <thead>\n",
       "    <tr style=\"text-align: right;\">\n",
       "      <th></th>\n",
       "      <th>column_name</th>\n",
       "      <th>datatype</th>\n",
       "      <th>description</th>\n",
       "      <th>unit</th>\n",
       "    </tr>\n",
       "  </thead>\n",
       "  <tbody>\n",
       "    <tr>\n",
       "      <th>0</th>\n",
       "      <td>band</td>\n",
       "      <td>char</td>\n",
       "      <td>Name of the band used to take the exposure whe...</td>\n",
       "      <td></td>\n",
       "    </tr>\n",
       "    <tr>\n",
       "      <th>1</th>\n",
       "      <td>ccdVisitId</td>\n",
       "      <td>int</td>\n",
       "      <td>Id of the ccdVisit where this diaSource was me...</td>\n",
       "      <td></td>\n",
       "    </tr>\n",
       "    <tr>\n",
       "      <th>2</th>\n",
       "      <td>dec</td>\n",
       "      <td>double</td>\n",
       "      <td>Dec-coordinate of the center of this diaSource.</td>\n",
       "      <td>deg</td>\n",
       "    </tr>\n",
       "    <tr>\n",
       "      <th>3</th>\n",
       "      <td>decErr</td>\n",
       "      <td>float</td>\n",
       "      <td>Uncertainty of dec.</td>\n",
       "      <td>deg</td>\n",
       "    </tr>\n",
       "    <tr>\n",
       "      <th>4</th>\n",
       "      <td>decTrue</td>\n",
       "      <td>double</td>\n",
       "      <td>True (noiseless) declination of the simulated ...</td>\n",
       "      <td></td>\n",
       "    </tr>\n",
       "    <tr>\n",
       "      <th>5</th>\n",
       "      <td>diaObjectId</td>\n",
       "      <td>long</td>\n",
       "      <td>Id of the diaObject this source was associated...</td>\n",
       "      <td></td>\n",
       "    </tr>\n",
       "    <tr>\n",
       "      <th>6</th>\n",
       "      <td>diaSourceId</td>\n",
       "      <td>long</td>\n",
       "      <td>Unique id.</td>\n",
       "      <td></td>\n",
       "    </tr>\n",
       "    <tr>\n",
       "      <th>7</th>\n",
       "      <td>mag</td>\n",
       "      <td>float</td>\n",
       "      <td>Magnitude. This is a placeholder and should be...</td>\n",
       "      <td></td>\n",
       "    </tr>\n",
       "    <tr>\n",
       "      <th>8</th>\n",
       "      <td>magErr</td>\n",
       "      <td>float</td>\n",
       "      <td>Magnitude error. This is a placeholder and sho...</td>\n",
       "      <td></td>\n",
       "    </tr>\n",
       "    <tr>\n",
       "      <th>9</th>\n",
       "      <td>magTrueVband</td>\n",
       "      <td>float</td>\n",
       "      <td>True (noiseless) V-band magnitude of the simul...</td>\n",
       "      <td></td>\n",
       "    </tr>\n",
       "    <tr>\n",
       "      <th>10</th>\n",
       "      <td>midPointMjdTai</td>\n",
       "      <td>double</td>\n",
       "      <td>Effective mid-exposure time for this diaSource.</td>\n",
       "      <td>d</td>\n",
       "    </tr>\n",
       "    <tr>\n",
       "      <th>11</th>\n",
       "      <td>nameTrue</td>\n",
       "      <td>char</td>\n",
       "      <td>MPC or simulation designation of the moving ob...</td>\n",
       "      <td></td>\n",
       "    </tr>\n",
       "    <tr>\n",
       "      <th>12</th>\n",
       "      <td>ra</td>\n",
       "      <td>double</td>\n",
       "      <td>RA-coordinate of the center of this diaSource.</td>\n",
       "      <td>deg</td>\n",
       "    </tr>\n",
       "    <tr>\n",
       "      <th>13</th>\n",
       "      <td>ra_dec_Cov</td>\n",
       "      <td>float</td>\n",
       "      <td>Covariance between ra and dec.</td>\n",
       "      <td>deg**2</td>\n",
       "    </tr>\n",
       "    <tr>\n",
       "      <th>14</th>\n",
       "      <td>raErr</td>\n",
       "      <td>float</td>\n",
       "      <td>Uncertainty of ra.</td>\n",
       "      <td>deg</td>\n",
       "    </tr>\n",
       "    <tr>\n",
       "      <th>15</th>\n",
       "      <td>raTrue</td>\n",
       "      <td>double</td>\n",
       "      <td>True (noiseless) right ascension of the simula...</td>\n",
       "      <td></td>\n",
       "    </tr>\n",
       "    <tr>\n",
       "      <th>16</th>\n",
       "      <td>snr</td>\n",
       "      <td>float</td>\n",
       "      <td>The signal-to-noise ratio at which this source...</td>\n",
       "      <td></td>\n",
       "    </tr>\n",
       "    <tr>\n",
       "      <th>17</th>\n",
       "      <td>ssObjectId</td>\n",
       "      <td>long</td>\n",
       "      <td>Id of the ssObject this source was associated ...</td>\n",
       "      <td></td>\n",
       "    </tr>\n",
       "    <tr>\n",
       "      <th>18</th>\n",
       "      <td>ssObjectReassocTime</td>\n",
       "      <td>double</td>\n",
       "      <td>Time (MJD) when this diaSource was reassociate...</td>\n",
       "      <td>d</td>\n",
       "    </tr>\n",
       "  </tbody>\n",
       "</table>\n",
       "</div>"
      ],
      "text/plain": [
       "            column_name datatype  \\\n",
       "0                  band     char   \n",
       "1            ccdVisitId      int   \n",
       "2                   dec   double   \n",
       "3                decErr    float   \n",
       "4               decTrue   double   \n",
       "5           diaObjectId     long   \n",
       "6           diaSourceId     long   \n",
       "7                   mag    float   \n",
       "8                magErr    float   \n",
       "9          magTrueVband    float   \n",
       "10       midPointMjdTai   double   \n",
       "11             nameTrue     char   \n",
       "12                   ra   double   \n",
       "13           ra_dec_Cov    float   \n",
       "14                raErr    float   \n",
       "15               raTrue   double   \n",
       "16                  snr    float   \n",
       "17           ssObjectId     long   \n",
       "18  ssObjectReassocTime   double   \n",
       "\n",
       "                                          description    unit  \n",
       "0   Name of the band used to take the exposure whe...          \n",
       "1   Id of the ccdVisit where this diaSource was me...          \n",
       "2     Dec-coordinate of the center of this diaSource.     deg  \n",
       "3                                 Uncertainty of dec.     deg  \n",
       "4   True (noiseless) declination of the simulated ...          \n",
       "5   Id of the diaObject this source was associated...          \n",
       "6                                          Unique id.          \n",
       "7   Magnitude. This is a placeholder and should be...          \n",
       "8   Magnitude error. This is a placeholder and sho...          \n",
       "9   True (noiseless) V-band magnitude of the simul...          \n",
       "10    Effective mid-exposure time for this diaSource.       d  \n",
       "11  MPC or simulation designation of the moving ob...          \n",
       "12     RA-coordinate of the center of this diaSource.     deg  \n",
       "13                     Covariance between ra and dec.  deg**2  \n",
       "14                                 Uncertainty of ra.     deg  \n",
       "15  True (noiseless) right ascension of the simula...          \n",
       "16  The signal-to-noise ratio at which this source...          \n",
       "17  Id of the ssObject this source was associated ...          \n",
       "18  Time (MJD) when this diaSource was reassociate...       d  "
      ]
     },
     "execution_count": 2,
     "metadata": {},
     "output_type": "execute_result"
    }
   ],
   "source": [
    "service = get_tap_service(\"ssotap\")\n",
    "assert service is not None\n",
    "results = service.search(\"SELECT column_name, datatype, description, \"\n",
    "                         \"unit from TAP_SCHEMA.columns \"\n",
    "                         \"WHERE table_name = 'dp03_catalogs_10yr.DiaSource'\")\n",
    "results.to_table().to_pandas()"
   ]
  },
  {
   "cell_type": "code",
   "execution_count": null,
   "id": "c105f2e1-5a5e-4269-9233-a489c0e891cd",
   "metadata": {},
   "outputs": [],
   "source": [
    "results['description'][9]"
   ]
  },
  {
   "cell_type": "markdown",
   "id": "35dc685b-629e-4984-834a-0dabc75a8266",
   "metadata": {},
   "source": [
    "### Query testing"
   ]
  },
  {
   "cell_type": "markdown",
   "id": "2cde83ef-ca25-42fd-8e0f-2a59c4da1f69",
   "metadata": {},
   "source": [
    "Object type given, no join\n",
    "\n",
    "Object type given, join\n",
    "\n",
    "Object type not given, no join\n",
    "\n",
    "Object type not given, join"
   ]
  },
  {
   "cell_type": "markdown",
   "id": "988504a1-0641-463b-b3c1-3d009e3bbf6e",
   "metadata": {},
   "source": [
    "#### Object type given, no join"
   ]
  },
  {
   "cell_type": "code",
   "execution_count": 11,
   "id": "95231655-dac4-4aee-a883-2ec08e27994d",
   "metadata": {
    "execution": {
     "iopub.execute_input": "2025-07-02T19:08:37.768960Z",
     "iopub.status.busy": "2025-07-02T19:08:37.768235Z",
     "iopub.status.idle": "2025-07-02T19:08:37.772815Z",
     "shell.execute_reply": "2025-07-02T19:08:37.772303Z",
     "shell.execute_reply.started": "2025-07-02T19:08:37.768934Z"
    }
   },
   "outputs": [
    {
     "name": "stdout",
     "output_type": "stream",
     "text": [
      "SELECT mpc.incl, mpc.q, mpc.e, mpc.ssObjectID FROM dp03_catalogs_10yr.MPCORB as mpc\n",
      "    WHERE (mpc.q * (1 - mpc.e)) / (5.204 * (1 + mpc.e)) >= 0 AND (5.204 * (1 - mpc.e)) / mpc.q + 2 * COS(RADIANS(mpc.incl)) * SQRT((mpc.q * (1 - mpc.e)) / (5.204 * (1 + mpc.e))) BETWEEN 2.0 AND 3.0;\n",
      "JFC\n",
      "SELECT mpc.incl, mpc.q, mpc.e, mpc.ssObjectID FROM dp03_catalogs_10yr.MPCORB as mpc\n",
      "    WHERE mpc.q < 1.3 AND mpc.e < 1.0 AND mpc.q/(1-mpc.e) < 4.0;\n",
      "NEO\n",
      "SELECT mpc.incl, mpc.q, mpc.e, mpc.ssObjectID FROM dp03_catalogs_10yr.MPCORB as mpc\n",
      "    WHERE mpc.q/(1-mpc.e) > 30.1 AND mpc.q/(1-mpc.e) < 50;\n",
      "TNO\n"
     ]
    }
   ],
   "source": [
    "query, object_type = q.make_query_general(object_type = \"JFC\")\n",
    "print(query)\n",
    "print(object_type)\n",
    "\n",
    "query, object_type = q.make_query_general(object_type = \"NEO\")\n",
    "print(query)\n",
    "print(object_type)\n",
    "\n",
    "query, object_type = q.make_query_general(object_type = \"TNO\")\n",
    "print(query)\n",
    "print(object_type)"
   ]
  },
  {
   "cell_type": "markdown",
   "id": "c6316a15-9f20-4a66-9cd6-db397df04997",
   "metadata": {},
   "source": [
    "#### Object type given, join"
   ]
  },
  {
   "cell_type": "code",
   "execution_count": 9,
   "id": "7effd904-0559-4049-96ad-be2438d9cbd6",
   "metadata": {
    "execution": {
     "iopub.execute_input": "2025-07-02T20:25:33.451619Z",
     "iopub.status.busy": "2025-07-02T20:25:33.450775Z",
     "iopub.status.idle": "2025-07-02T20:25:33.455875Z",
     "shell.execute_reply": "2025-07-02T20:25:33.455294Z",
     "shell.execute_reply.started": "2025-07-02T20:25:33.451592Z"
    }
   },
   "outputs": [
    {
     "name": "stdout",
     "output_type": "stream",
     "text": [
      "SELECT mpc.incl, mpc.q, mpc.e, mpc.ssObjectID, dias.magTrueVband, dias.band FROM dp03_catalogs_10yr.MPCORB as mpc\n",
      "    INNER JOIN dp03_catalogs_10yr.DiaSource AS dias ON mpc.ssObjectId = dias.ssObjectId\n",
      "    WHERE (mpc.q * (1 - mpc.e)) / (5.204 * (1 + mpc.e)) >= 0 AND (5.204 * (1 - mpc.e)) / mpc.q + 2 * COS(RADIANS(mpc.incl)) * SQRT((mpc.q * (1 - mpc.e)) / (5.204 * (1 + mpc.e))) BETWEEN 2.0 AND 3.0;\n",
      "JFC\n",
      "SELECT mpc.incl, mpc.q, mpc.e, mpc.ssObjectID, dias.magTrueVband, dias.band FROM dp03_catalogs_10yr.MPCORB as mpc\n",
      "    INNER JOIN dp03_catalogs_10yr.DiaSource AS dias ON mpc.ssObjectId = dias.ssObjectId\n",
      "    WHERE mpc.q < 1.3 AND mpc.e < 1.0 AND mpc.q/(1-mpc.e) < 4.0;\n",
      "NEO\n",
      "SELECT mpc.incl, mpc.q, mpc.e, mpc.ssObjectID, dias.magTrueVband, dias.band FROM dp03_catalogs_10yr.MPCORB as mpc\n",
      "    INNER JOIN dp03_catalogs_10yr.DiaSource AS dias ON mpc.ssObjectId = dias.ssObjectId\n",
      "    WHERE mpc.q/(1-mpc.e) > 29.8 AND mpc.q/(1-mpc.e) < 30.4;\n",
      "Ntrojan\n"
     ]
    }
   ],
   "source": [
    "query, object_type = q.make_query_general(object_type = \"JFC\", join = 'Diasource')\n",
    "print(query)\n",
    "print(object_type)\n",
    "\n",
    "query, object_type = q.make_query_general(object_type = \"NEO\", join = 'Diasource')\n",
    "print(query)\n",
    "print(object_type)\n",
    "\n",
    "query, object_type = q.make_query_general(object_type = \"Ntrojan\", join = 'Diasource')\n",
    "print(query)\n",
    "print(object_type)"
   ]
  },
  {
   "cell_type": "markdown",
   "id": "d0a421e3-ca38-46d2-a217-e6110ac9ce3a",
   "metadata": {},
   "source": [
    "#### Params given, join"
   ]
  },
  {
   "cell_type": "code",
   "execution_count": 4,
   "id": "bd4eb55e-42e7-41af-a5bf-5a954c566a1d",
   "metadata": {
    "execution": {
     "iopub.execute_input": "2025-07-02T20:12:13.635167Z",
     "iopub.status.busy": "2025-07-02T20:12:13.634575Z",
     "iopub.status.idle": "2025-07-02T20:12:13.639189Z",
     "shell.execute_reply": "2025-07-02T20:12:13.638638Z",
     "shell.execute_reply.started": "2025-07-02T20:12:13.635139Z"
    }
   },
   "outputs": [
    {
     "name": "stdout",
     "output_type": "stream",
     "text": [
      "SELECT mpc.incl, mpc.q, mpc.e, mpc.ssObjectID, dias.magTrueVband, dias.band FROM dp03_catalogs_10yr.MPCORB as mpc\n",
      "    INNER JOIN dp03_catalogs_10yr.DiaSource AS dias ON mpc.ssObjectId = dias.ssObjectId\n",
      "    WHERE (mpc.q * (1 - mpc.e)) / (5.204 * (1 + mpc.e)) >= 0 AND (5.204 * (1 - mpc.e)) / mpc.q + 2 * COS(RADIANS(mpc.incl)) * SQRT((mpc.q * (1 - mpc.e)) / (5.204 * (1 + mpc.e))) BETWEEN 2.0 AND 3.0;\n",
      "JFC\n",
      "SELECT mpc.incl, mpc.q, mpc.e, mpc.ssObjectID FROM dp03_catalogs_10yr.MPCORB as mpc\n",
      "    WHERE mpc.q/(1-mpc.e) > 30.1 AND mpc.q/(1-mpc.e) < 50;\n",
      "TNO\n"
     ]
    }
   ],
   "source": [
    "query, object_type = q.make_query_general(t_cutoff_min = 2.0, t_cutoff = 3.0, join = 'Diasource')\n",
    "print(query)\n",
    "print(object_type)\n",
    "\n",
    "query, object_type = q.make_query_general(a_cutoff_min = 30.1, a_cutoff = 50)\n",
    "print(query)\n",
    "print(object_type)"
   ]
  },
  {
   "cell_type": "code",
   "execution_count": 3,
   "id": "12e1e131-d92d-4fa7-bb80-590c26280732",
   "metadata": {
    "execution": {
     "iopub.execute_input": "2025-07-02T18:37:39.531602Z",
     "iopub.status.busy": "2025-07-02T18:37:39.531430Z",
     "iopub.status.idle": "2025-07-02T18:37:39.543814Z",
     "shell.execute_reply": "2025-07-02T18:37:39.543375Z",
     "shell.execute_reply.started": "2025-07-02T18:37:39.531586Z"
    }
   },
   "outputs": [
    {
     "name": "stdout",
     "output_type": "stream",
     "text": [
      "SELECT mpc.incl, mpc.q, mpc.e, mpc.ssObjectID, dias.magTrueVband, dias.band FROM dp03_catalogs_10yr.MPCORB as mpc\n",
      "    INNER JOIN dp03_catalogs_10yr.DiaSource AS dias ON mpc.ssObjectId = dias.ssObjectId\n",
      "    WHERE (mpc.q * (1 - mpc.e)) / (5.204 * (1 + mpc.e)) >= 0 AND (5.204 * (1 - mpc.e)) / mpc.q + 2 * COS(RADIANS(mpc.incl)) * SQRT((mpc.q * (1 - mpc.e)) / (5.204 * (1 + mpc.e))) BETWEEN 2.0 AND 3.0;\n",
      "JFC\n",
      "SELECT mpc.incl, mpc.q, mpc.e, mpc.ssObjectID, dias.magTrueVband, dias.band FROM dp03_catalogs_10yr.MPCORB as mpc\n",
      "    INNER JOIN dp03_catalogs_10yr.DiaSource AS dias ON mpc.ssObjectId = dias.ssObjectId\n",
      "    WHERE (mpc.q * (1 - mpc.e)) / (5.204 * (1 + mpc.e)) >= 0 AND (5.204 * (1 - mpc.e)) / mpc.q + 2 * COS(RADIANS(mpc.incl)) * SQRT((mpc.q * (1 - mpc.e)) / (5.204 * (1 + mpc.e))) BETWEEN 2.0 AND 3.0;\n",
      "JFC\n"
     ]
    }
   ],
   "source": [
    "query, object_type = q.make_query_general(object_type = \"JFC\", join = 'Diasource')\n",
    "print(query)\n",
    "print(object_type)\n",
    "\n",
    "query, object_type = q.make_query_general(t_cutoff_min = 2.0, t_cutoff = 3.0, join = 'Diasource')\n",
    "print(query)\n",
    "print(object_type) "
   ]
  },
  {
   "cell_type": "markdown",
   "id": "64110cd3-52ad-4a97-a982-191d53c78d4c",
   "metadata": {},
   "source": [
    "#### Testing join with DP1 DiaSource"
   ]
  },
  {
   "cell_type": "code",
   "execution_count": 2,
   "id": "c31a9fb0-db94-4ec1-8b7d-b163dfad9e3e",
   "metadata": {
    "execution": {
     "iopub.execute_input": "2025-07-18T13:21:04.975345Z",
     "iopub.status.busy": "2025-07-18T13:21:04.974688Z",
     "iopub.status.idle": "2025-07-18T13:21:05.114326Z",
     "shell.execute_reply": "2025-07-18T13:21:05.113743Z",
     "shell.execute_reply.started": "2025-07-18T13:21:04.975309Z"
    }
   },
   "outputs": [
    {
     "name": "stdout",
     "output_type": "stream",
     "text": [
      "Querying dp1.DiaSource for: ['dias.apFlux', 'dias.apFlux_flag', 'dias.apFluxErr', 'dias.band']\n",
      "SELECT mpc.incl, mpc.q, mpc.e, mpc.ssObjectID, mpc.mpcDesignation, dias.apFlux, dias.apFlux_flag, dias.apFluxErr, dias.band FROM dp1.MPCORB AS mpc\n",
      "    INNER JOIN dp1.DiaSource AS dias ON mpc.ssObjectId = dias.ssObjectId\n",
      "    WHERE mpc.q < 1.3 AND mpc.e < 1.0 AND mpc.q/(1-mpc.e) < 4.0;\n"
     ]
    }
   ],
   "source": [
    "string, class_name = q.make_query(catalog = \"dp1\", class_name = \"NEO\", cutoffs = None, join = \"DiaSource\")\n",
    "print(string)\n",
    "# NEO_data_table = q.run_query(string, class_name, \"dp1\", to_pandas = True)\n",
    "\n",
    "# mags = q.calc_magnitude(NEO_data_table['apFlux'])\n",
    "# NEO_data_table['Magnitude'] = mags"
   ]
  },
  {
   "cell_type": "code",
   "execution_count": 5,
   "id": "eed0fbc8-a3b1-4d20-88f8-291cad0a7d1e",
   "metadata": {
    "execution": {
     "iopub.execute_input": "2025-07-17T19:05:13.993833Z",
     "iopub.status.busy": "2025-07-17T19:05:13.993216Z",
     "iopub.status.idle": "2025-07-17T19:05:13.998118Z",
     "shell.execute_reply": "2025-07-17T19:05:13.997624Z",
     "shell.execute_reply.started": "2025-07-17T19:05:13.993805Z"
    }
   },
   "outputs": [
    {
     "data": {
      "text/plain": [
       "Index(['apFlux', 'apFluxErr', 'apFlux_flag', 'band', 'e', 'incl',\n",
       "       'mpcDesignation', 'q', 'ssObjectID', 'a', 'class_name', 'Magnitude'],\n",
       "      dtype='object')"
      ]
     },
     "execution_count": 5,
     "metadata": {},
     "output_type": "execute_result"
    }
   ],
   "source": [
    "NEO_data_table.columns"
   ]
  },
  {
   "cell_type": "code",
   "execution_count": 4,
   "id": "9ff390a6-7c35-4f87-842e-163844cbcfd1",
   "metadata": {
    "execution": {
     "iopub.execute_input": "2025-07-18T13:14:57.839088Z",
     "iopub.status.busy": "2025-07-18T13:14:57.838225Z",
     "iopub.status.idle": "2025-07-18T13:14:57.992506Z",
     "shell.execute_reply": "2025-07-18T13:14:57.991816Z",
     "shell.execute_reply.started": "2025-07-18T13:14:57.839059Z"
    }
   },
   "outputs": [
    {
     "data": {
      "text/html": [
       "<div>\n",
       "<style scoped>\n",
       "    .dataframe tbody tr th:only-of-type {\n",
       "        vertical-align: middle;\n",
       "    }\n",
       "\n",
       "    .dataframe tbody tr th {\n",
       "        vertical-align: top;\n",
       "    }\n",
       "\n",
       "    .dataframe thead th {\n",
       "        text-align: right;\n",
       "    }\n",
       "</style>\n",
       "<table border=\"1\" class=\"dataframe\">\n",
       "  <thead>\n",
       "    <tr style=\"text-align: right;\">\n",
       "      <th></th>\n",
       "      <th>column_name</th>\n",
       "      <th>datatype</th>\n",
       "      <th>description</th>\n",
       "      <th>unit</th>\n",
       "    </tr>\n",
       "  </thead>\n",
       "  <tbody>\n",
       "    <tr>\n",
       "      <th>0</th>\n",
       "      <td>apFlux</td>\n",
       "      <td>float</td>\n",
       "      <td>Flux in a 12 pixel radius aperture on the diff...</td>\n",
       "      <td>nJy</td>\n",
       "    </tr>\n",
       "    <tr>\n",
       "      <th>1</th>\n",
       "      <td>apFlux_flag</td>\n",
       "      <td>boolean</td>\n",
       "      <td>General aperture flux algorithm failure flag; ...</td>\n",
       "      <td></td>\n",
       "    </tr>\n",
       "    <tr>\n",
       "      <th>2</th>\n",
       "      <td>apFlux_flag_apertureTruncated</td>\n",
       "      <td>boolean</td>\n",
       "      <td>Aperture did not fit within measurement image.</td>\n",
       "      <td></td>\n",
       "    </tr>\n",
       "    <tr>\n",
       "      <th>3</th>\n",
       "      <td>apFluxErr</td>\n",
       "      <td>float</td>\n",
       "      <td>Estimated uncertainty of apFlux.</td>\n",
       "      <td>nJy</td>\n",
       "    </tr>\n",
       "    <tr>\n",
       "      <th>4</th>\n",
       "      <td>band</td>\n",
       "      <td>char</td>\n",
       "      <td>Band used to take this observation.</td>\n",
       "      <td></td>\n",
       "    </tr>\n",
       "    <tr>\n",
       "      <th>...</th>\n",
       "      <td>...</td>\n",
       "      <td>...</td>\n",
       "      <td>...</td>\n",
       "      <td>...</td>\n",
       "    </tr>\n",
       "    <tr>\n",
       "      <th>82</th>\n",
       "      <td>visit</td>\n",
       "      <td>long</td>\n",
       "      <td>Id of the visit where this diaSource was measu...</td>\n",
       "      <td></td>\n",
       "    </tr>\n",
       "    <tr>\n",
       "      <th>83</th>\n",
       "      <td>x</td>\n",
       "      <td>double</td>\n",
       "      <td>Unweighted first moment centroid, overall cent...</td>\n",
       "      <td>pixel</td>\n",
       "    </tr>\n",
       "    <tr>\n",
       "      <th>84</th>\n",
       "      <td>xErr</td>\n",
       "      <td>float</td>\n",
       "      <td>1-sigma uncertainty on x position</td>\n",
       "      <td>pixel</td>\n",
       "    </tr>\n",
       "    <tr>\n",
       "      <th>85</th>\n",
       "      <td>y</td>\n",
       "      <td>double</td>\n",
       "      <td>Unweighted first moment centroid, overall cent...</td>\n",
       "      <td>pixel</td>\n",
       "    </tr>\n",
       "    <tr>\n",
       "      <th>86</th>\n",
       "      <td>yErr</td>\n",
       "      <td>float</td>\n",
       "      <td>1-sigma uncertainty on y position</td>\n",
       "      <td>pixel</td>\n",
       "    </tr>\n",
       "  </tbody>\n",
       "</table>\n",
       "<p>87 rows × 4 columns</p>\n",
       "</div>"
      ],
      "text/plain": [
       "                      column_name datatype  \\\n",
       "0                          apFlux    float   \n",
       "1                     apFlux_flag  boolean   \n",
       "2   apFlux_flag_apertureTruncated  boolean   \n",
       "3                       apFluxErr    float   \n",
       "4                            band     char   \n",
       "..                            ...      ...   \n",
       "82                          visit     long   \n",
       "83                              x   double   \n",
       "84                           xErr    float   \n",
       "85                              y   double   \n",
       "86                           yErr    float   \n",
       "\n",
       "                                          description   unit  \n",
       "0   Flux in a 12 pixel radius aperture on the diff...    nJy  \n",
       "1   General aperture flux algorithm failure flag; ...         \n",
       "2      Aperture did not fit within measurement image.         \n",
       "3                    Estimated uncertainty of apFlux.    nJy  \n",
       "4                 Band used to take this observation.         \n",
       "..                                                ...    ...  \n",
       "82  Id of the visit where this diaSource was measu...         \n",
       "83  Unweighted first moment centroid, overall cent...  pixel  \n",
       "84                  1-sigma uncertainty on x position  pixel  \n",
       "85  Unweighted first moment centroid, overall cent...  pixel  \n",
       "86                  1-sigma uncertainty on y position  pixel  \n",
       "\n",
       "[87 rows x 4 columns]"
      ]
     },
     "execution_count": 4,
     "metadata": {},
     "output_type": "execute_result"
    }
   ],
   "source": [
    "service = get_tap_service(\"tap\")\n",
    "assert service is not None\n",
    "results = service.search(\"SELECT column_name, datatype, description, \"\n",
    "                         \"unit from TAP_SCHEMA.columns \"\n",
    "                         \"WHERE table_name = 'dp1.DiaSource'\")\n",
    "results.to_table().to_pandas()"
   ]
  },
  {
   "cell_type": "markdown",
   "id": "f8b9d1a0-eefb-4d45-b3be-e5d7a335e57e",
   "metadata": {},
   "source": [
    "#### Testing join with DP1 SSObject"
   ]
  },
  {
   "cell_type": "code",
   "execution_count": 4,
   "id": "8d1bf56f-af83-4c51-bb72-d8fbb38bcfdb",
   "metadata": {
    "execution": {
     "iopub.execute_input": "2025-07-18T20:52:51.687090Z",
     "iopub.status.busy": "2025-07-18T20:52:51.686322Z",
     "iopub.status.idle": "2025-07-18T20:52:51.861405Z",
     "shell.execute_reply": "2025-07-18T20:52:51.860871Z",
     "shell.execute_reply.started": "2025-07-18T20:52:51.687062Z"
    }
   },
   "outputs": [
    {
     "name": "stdout",
     "output_type": "stream",
     "text": [
      "Querying dp03_catalogs_10yr.SSObject for: ['sso.g_H', 'sso.r_H', 'sso.i_H', 'sso.discoverySubmissionDate', 'sso.numObs']\n",
      "SELECT mpc.incl, mpc.q, mpc.e, mpc.ssObjectID, mpc.mpcDesignation, sso.g_H, sso.r_H, sso.i_H, sso.discoverySubmissionDate, sso.numObs, (sso.g_H - sso.r_H) AS g_r_color, (sso.r_H - sso.i_H) AS r_i_color FROM dp03_catalogs_10yr.MPCORB AS mpc\n",
      "    INNER JOIN dp03_catalogs_10yr.SSObject AS sso ON mpc.ssObjectId = sso.ssObjectId\n",
      "    WHERE mpc.q < 1.3 AND mpc.e < 1.0 AND mpc.q/(1-mpc.e) < 4.0;\n"
     ]
    }
   ],
   "source": [
    "import numpy as np\n",
    "import matplotlib.pyplot as plt\n",
    "import pandas as pd\n",
    "from lsst.rsp import get_tap_service\n",
    "sys.path.append(os.path.abspath('../../../sso_query/'))\n",
    "import query as q\n",
    "import query_helpers as qh\n",
    "\n",
    "string, class_name = q.make_query(catalog = \"dp03_catalogs_10yr\", class_name = \"NEO\", cutoffs = None, join = \"SSObject\")\n",
    "print(string)\n",
    "# NEO_data_table = q.run_query(string, class_name, \"dp1\", to_pandas = True)\n"
   ]
  },
  {
   "cell_type": "code",
   "execution_count": null,
   "id": "5b325ed8-d2e0-4304-8c61-3d392ea711dd",
   "metadata": {},
   "outputs": [],
   "source": []
  }
 ],
 "metadata": {
  "kernelspec": {
   "display_name": "LSST",
   "language": "python",
   "name": "lsst"
  },
  "language_info": {
   "codemirror_mode": {
    "name": "ipython",
    "version": 3
   },
   "file_extension": ".py",
   "mimetype": "text/x-python",
   "name": "python",
   "nbconvert_exporter": "python",
   "pygments_lexer": "ipython3",
   "version": "3.12.11"
  }
 },
 "nbformat": 4,
 "nbformat_minor": 5
}
