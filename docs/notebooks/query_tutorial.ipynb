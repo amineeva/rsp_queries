{
 "cells": [
  {
   "cell_type": "markdown",
   "id": "de8ebdb8-6e4f-4389-b722-d8d8d1214ea9",
   "metadata": {},
   "source": [
    "# Query.py Tutorial Doc"
   ]
  },
  {
   "cell_type": "markdown",
   "id": "128167eb-a785-4294-9f6b-8dcd79bce53d",
   "metadata": {},
   "source": [
    "This tutorial shows you how to create, run, and make some basic plots from the DP1 and DP03 catalogs. \n",
    "\n",
    "The tutorial is split into two parts:\n",
    "1. Creating and running queries\n",
    "2. Plotting/summary print statements\n",
    "\n",
    "For this tutotial, we'll be looking NEO objects. query.py contains a global dictionary that contains all searchable classes and their orbital parameters:\n",
    "\n",
    "    \"LPC\": {\"a_min\": 50.0},\n",
    "    \"TNO\": {\"a_min\": 30.1, \"a_max\": 50.0},\n",
    "    \"Ntrojan\": {\"a_min\": 29.8, \"a_max\": 30.4},\n",
    "    \"NEO\": {\"q_max\": 1.3, \"a_max\": 4.0, \"e_max\": 1.0},\n",
    "    \"MBA\": {\"q_min\": 1.66, \"a_min\": 2.0, \"a_max\": 3.2},\n",
    "    \"Centaur\": {\"a_min\": 5.5, \"a_max\": 30.1},\n",
    "    \"Jtrojan\": {\"a_min\": 4.8, \"a_max\": 5.4, \"e_max\": 0.3},\n",
    "    \"JFC\": {\"tj_min\": 2.0, \"tj_max\": 3.0}\n",
    "\n",
    "The 'catalog' variable allows you to query different catalogs; the options are 'dp03_catalogs_10yr' and'dp1'.\n",
    "\n",
    "The 'join' variable allows you to perform an inner join with either 'DiaSource' or 'SSObject'."
   ]
  },
  {
   "cell_type": "markdown",
   "id": "2a3ba0cc-0fc5-4f29-ae07-bfc49f1adeb7",
   "metadata": {},
   "source": [
    "## 1. Creating and Running queries\n",
    "\n",
    "First, we will show you a full example, and then provide more query examples for your reference. \n",
    "\n",
    "The first set of examples will use DP1. The examples at the bottom will use DP03. "
   ]
  },
  {
   "cell_type": "code",
   "execution_count": 4,
   "id": "c901b3e7-b1f1-4bb2-865a-a793e954dc62",
   "metadata": {
    "execution": {
     "iopub.execute_input": "2025-07-21T19:44:07.702976Z",
     "iopub.status.busy": "2025-07-21T19:44:07.702271Z",
     "iopub.status.idle": "2025-07-21T19:44:07.721223Z",
     "shell.execute_reply": "2025-07-21T19:44:07.720550Z",
     "shell.execute_reply.started": "2025-07-21T19:44:07.702946Z"
    }
   },
   "outputs": [],
   "source": [
    "from lsst.rsp import get_tap_service\n",
    "import sys\n",
    "import os\n",
    "sys.path.append(os.path.abspath('../../sso_query/'))\n",
    "import query as q\n",
    "import query_helpers as qh\n",
    "import pandas as pd"
   ]
  },
  {
   "cell_type": "markdown",
   "id": "ab183437-2576-4bd9-b19a-1dbbcc107918",
   "metadata": {},
   "source": [
    "After generating your desired query, it's time to run it. All examples can be run by uncommeting the 'q.run_query' line of code. \n",
    "\n",
    "The run_query function can return either an AstroPy table (to_pandas = False) or a Pandas dataframe (to_pandas = True). \n",
    "\n",
    "The function automatically prints the first few rows of your data. "
   ]
  },
  {
   "cell_type": "markdown",
   "id": "384628b4-c00c-4f49-bd7d-53a1df9daae6",
   "metadata": {},
   "source": [
    "### Full example: DP03, combined NEO and LPC"
   ]
  },
  {
   "cell_type": "code",
   "execution_count": 2,
   "id": "b5860ea4-ed08-4a28-b301-f21ff95385d4",
   "metadata": {
    "execution": {
     "iopub.execute_input": "2025-07-21T19:43:33.671320Z",
     "iopub.status.busy": "2025-07-21T19:43:33.671115Z",
     "iopub.status.idle": "2025-07-21T19:43:40.745030Z",
     "shell.execute_reply": "2025-07-21T19:43:40.744215Z",
     "shell.execute_reply.started": "2025-07-21T19:43:33.671300Z"
    }
   },
   "outputs": [
    {
     "name": "stdout",
     "output_type": "stream",
     "text": [
      "Querying dp03_catalogs_10yr.DiaSource for: ['dias.magTrueVband', 'dias.band']\n",
      "SELECT mpc.incl, mpc.q, mpc.e, mpc.ssObjectID, mpc.mpcDesignation, dias.magTrueVband, dias.band FROM dp03_catalogs_10yr.MPCORB AS mpc\n",
      "    INNER JOIN dp03_catalogs_10yr.DiaSource AS dias ON mpc.ssObjectId = dias.ssObjectId\n",
      "    WHERE mpc.q < 1.3 AND mpc.e < 1.0 AND mpc.q/(1-mpc.e) < 4.0\n",
      "    LIMIT 1000;\n",
      "Querying dp03_catalogs_10yr.DiaSource for: ['dias.magTrueVband', 'dias.band']\n",
      "SELECT mpc.incl, mpc.q, mpc.e, mpc.ssObjectID, mpc.mpcDesignation, dias.magTrueVband, dias.band FROM dp03_catalogs_10yr.MPCORB AS mpc\n",
      "    INNER JOIN dp03_catalogs_10yr.DiaSource AS dias ON mpc.ssObjectId = dias.ssObjectId\n",
      "    WHERE mpc.q/(1-mpc.e) > 50.0\n",
      "    LIMIT 1000;\n",
      "Job phase is COMPLETED\n",
      "  band        e       incl  magTrueVband mpcDesignation         q  \\\n",
      "0    r  0.82386  22.968456     30.019373       S0000AMJ  0.391082   \n",
      "1    r  0.82386  22.968456     30.963600       S0000AMJ  0.391082   \n",
      "2    i  0.82386  22.968456     30.019444       S0000AMJ  0.391082   \n",
      "3    r  0.82386  22.968456     30.056177       S0000AMJ  0.391082   \n",
      "4    r  0.82386  22.968456     29.502983       S0000AMJ  0.391082   \n",
      "\n",
      "            ssObjectID         a class_name  \n",
      "0  6943940963192273862  2.220293        NEO  \n",
      "1  6943940963192273862  2.220293        NEO  \n",
      "2  6943940963192273862  2.220293        NEO  \n",
      "3  6943940963192273862  2.220293        NEO  \n",
      "4  6943940963192273862  2.220293        NEO  \n",
      "Job phase is COMPLETED\n",
      "  band         e       incl  magTrueVband mpcDesignation          q  \\\n",
      "0    i  0.699515  17.941456     23.791109       SS00016y  30.609128   \n",
      "1    r  0.699515  17.941456     23.826662       SS00016y  30.609128   \n",
      "2    g  0.699515  17.941456     23.687893       SS00016y  30.609128   \n",
      "3    r  0.699515  17.941456     23.819427       SS00016y  30.609128   \n",
      "4    g  0.699515  17.941456     24.053934       SS00016y  30.609128   \n",
      "\n",
      "            ssObjectID          a class_name  \n",
      "0  7112654013333788833  101.86591        LPC  \n",
      "1  7112654013333788833  101.86591        LPC  \n",
      "2  7112654013333788833  101.86591        LPC  \n",
      "3  7112654013333788833  101.86591        LPC  \n",
      "4  7112654013333788833  101.86591        LPC  \n"
     ]
    }
   ],
   "source": [
    "# create the query\n",
    "NEO_string, NEO_class_name = q.make_query(catalog = \"dp03_catalogs_10yr\", class_name = \"NEO\", cutoffs = None, join = \"DiaSource\", limit = 1000)\n",
    "print(NEO_string)\n",
    "LPC_string, LPC_class_name = q.make_query(catalog = \"dp03_catalogs_10yr\", class_name = \"LPC\", cutoffs = None, join = \"DiaSource\", limit = 1000)\n",
    "print(LPC_string)\n",
    "\n",
    "# run the query\n",
    "NEO_data_table = q.run_query(NEO_string, NEO_class_name, \"dp03_catalogs_10yr\", to_pandas = True)\n",
    "LPC_data_table = q.run_query(LPC_string, LPC_class_name, \"dp03_catalogs_10yr\", to_pandas = True)\n"
   ]
  },
  {
   "cell_type": "code",
   "execution_count": 5,
   "id": "49ebbdc6-6322-4d11-9038-7984d6effac9",
   "metadata": {
    "execution": {
     "iopub.execute_input": "2025-07-21T19:44:11.053650Z",
     "iopub.status.busy": "2025-07-21T19:44:11.052957Z",
     "iopub.status.idle": "2025-07-21T19:44:11.057973Z",
     "shell.execute_reply": "2025-07-21T19:44:11.057332Z",
     "shell.execute_reply.started": "2025-07-21T19:44:11.053619Z"
    }
   },
   "outputs": [],
   "source": [
    "main_example_table = qh.combine_tables(NEO_data_table, LPC_data_table)"
   ]
  },
  {
   "cell_type": "markdown",
   "id": "7a48a18c-8adf-4762-9d9d-d65676dc5efc",
   "metadata": {},
   "source": [
    "### DP1 Examples\n",
    "Because SSObject is a one-to-one match to the MPCORB catalog and DiaSource has multiple observations per object, note that the SSObject query will run much faster than the DiaSource query. \n",
    "\n",
    "When joining with DiaSource and SSObject, note the columns. Both tables have different columns in the DP03 and DP1 catalogs, be careful of this when plotting!"
   ]
  },
  {
   "cell_type": "markdown",
   "id": "a1eb7457-a784-438e-9d69-5bdce7c0ca91",
   "metadata": {},
   "source": [
    "##### Ex 1: Class name provided, join with SSObject"
   ]
  },
  {
   "cell_type": "code",
   "execution_count": 6,
   "id": "270c0e2e-9285-4e96-9c51-76935633ff7a",
   "metadata": {
    "execution": {
     "iopub.execute_input": "2025-07-21T19:44:12.777076Z",
     "iopub.status.busy": "2025-07-21T19:44:12.776375Z",
     "iopub.status.idle": "2025-07-21T19:44:13.069319Z",
     "shell.execute_reply": "2025-07-21T19:44:13.068579Z",
     "shell.execute_reply.started": "2025-07-21T19:44:12.777046Z"
    }
   },
   "outputs": [
    {
     "name": "stdout",
     "output_type": "stream",
     "text": [
      "Querying dp1.SSObject for: ['sso.discoverySubmissionDate', 'sso.numObs']\n",
      "SELECT mpc.incl, mpc.q, mpc.e, mpc.ssObjectID, mpc.mpcDesignation, sso.discoverySubmissionDate, sso.numObs FROM dp1.MPCORB AS mpc\n",
      "    INNER JOIN dp1.SSObject AS sso ON mpc.ssObjectId = sso.ssObjectId\n",
      "    WHERE mpc.q < 1.3 AND mpc.e < 1.0 AND mpc.q/(1-mpc.e) < 4.0;\n"
     ]
    }
   ],
   "source": [
    "string, class_name = q.make_query(catalog = \"dp1\", class_name = \"NEO\", cutoffs = None, join = \"SSObject\")\n",
    "print(string)\n",
    "# NEO_data_table = q.run_query(string, class_name, \"dp1\", to_pandas = True)"
   ]
  },
  {
   "cell_type": "markdown",
   "id": "fcc8c63a-85f1-4be5-bfbb-7c09166f0c9c",
   "metadata": {},
   "source": [
    "##### Ex 2: Class name provided, join with DiaSource"
   ]
  },
  {
   "cell_type": "code",
   "execution_count": 4,
   "id": "db591347-1bb7-4101-af59-c0102964e833",
   "metadata": {
    "execution": {
     "iopub.execute_input": "2025-07-18T14:45:52.762753Z",
     "iopub.status.busy": "2025-07-18T14:45:52.762104Z",
     "iopub.status.idle": "2025-07-18T14:45:52.960565Z",
     "shell.execute_reply": "2025-07-18T14:45:52.959837Z",
     "shell.execute_reply.started": "2025-07-18T14:45:52.762724Z"
    }
   },
   "outputs": [
    {
     "name": "stdout",
     "output_type": "stream",
     "text": [
      "Querying dp1.DiaSource for: ['dias.apFlux', 'dias.apFlux_flag', 'dias.apFluxErr', 'dias.band']\n",
      "SELECT mpc.incl, mpc.q, mpc.e, mpc.ssObjectID, mpc.mpcDesignation, dias.apFlux, dias.apFlux_flag, dias.apFluxErr, dias.band FROM dp1.MPCORB AS mpc\n",
      "    INNER JOIN dp1.DiaSource AS dias ON mpc.ssObjectId = dias.ssObjectId\n",
      "    WHERE mpc.q < 1.3 AND mpc.e < 1.0 AND mpc.q/(1-mpc.e) < 4.0;\n"
     ]
    }
   ],
   "source": [
    "string, class_name = q.make_query(catalog = \"dp1\", class_name = None, cutoffs = {\"q_max\": 1.3, \"a_max\": 4.0, \"e_max\": 1.0}, join = \"DiaSource\")\n",
    "print(string)\n",
    "# NEO_data_table = q.run_query(string, class_name, \"dp1\", to_pandas = True)"
   ]
  },
  {
   "cell_type": "markdown",
   "id": "c2822c51-5222-4033-8eba-d958dcbb15e4",
   "metadata": {},
   "source": [
    "### DP03 Examples"
   ]
  },
  {
   "cell_type": "markdown",
   "id": "054cec69-43dd-48c0-9349-957fa57e7851",
   "metadata": {},
   "source": [
    "##### Ex 1: DP03, Class name provided, no join. "
   ]
  },
  {
   "cell_type": "code",
   "execution_count": 3,
   "id": "d5f36750-3576-4044-86dc-e652fe0151ba",
   "metadata": {
    "execution": {
     "iopub.execute_input": "2025-07-18T14:28:08.868864Z",
     "iopub.status.busy": "2025-07-18T14:28:08.868070Z",
     "iopub.status.idle": "2025-07-18T14:28:08.872246Z",
     "shell.execute_reply": "2025-07-18T14:28:08.871740Z",
     "shell.execute_reply.started": "2025-07-18T14:28:08.868836Z"
    }
   },
   "outputs": [
    {
     "name": "stdout",
     "output_type": "stream",
     "text": [
      "SELECT mpc.incl, mpc.q, mpc.e, mpc.ssObjectID, mpc.mpcDesignation FROM dp03_catalogs_10yr.MPCORB AS mpc\n",
      "    WHERE mpc.q < 1.3 AND mpc.e < 1.0 AND mpc.q/(1-mpc.e) < 4.0;\n"
     ]
    }
   ],
   "source": [
    "string, class_name = q.make_query(\"dp03_catalogs_10yr\", class_name = \"NEO\", cutoffs = None, join = None)\n",
    "print(string)\n",
    "# NEO_data_table = q.run_query(string, class_name, \"dp03_catalogs_10yr\", to_pandas = True)"
   ]
  },
  {
   "cell_type": "markdown",
   "id": "08d51ddb-754d-4a35-97c4-b220ee95ace3",
   "metadata": {},
   "source": [
    "##### Ex 2: DP03, Class name provided, join table with DiaSource"
   ]
  },
  {
   "cell_type": "code",
   "execution_count": 4,
   "id": "eedaae49-5374-4100-be56-39cf303025b8",
   "metadata": {
    "execution": {
     "iopub.execute_input": "2025-07-18T14:28:11.527607Z",
     "iopub.status.busy": "2025-07-18T14:28:11.526984Z",
     "iopub.status.idle": "2025-07-18T14:28:11.689229Z",
     "shell.execute_reply": "2025-07-18T14:28:11.688684Z",
     "shell.execute_reply.started": "2025-07-18T14:28:11.527582Z"
    }
   },
   "outputs": [
    {
     "name": "stdout",
     "output_type": "stream",
     "text": [
      "Querying dp03_catalogs_10yr.DiaSource for: ['dias.magTrueVband', 'dias.band']\n",
      "SELECT mpc.incl, mpc.q, mpc.e, mpc.ssObjectID, mpc.mpcDesignation, dias.magTrueVband, dias.band FROM dp03_catalogs_10yr.MPCORB AS mpc\n",
      "    INNER JOIN dp03_catalogs_10yr.DiaSource AS dias ON mpc.ssObjectId = dias.ssObjectId\n",
      "    WHERE mpc.q < 1.3 AND mpc.e < 1.0 AND mpc.q/(1-mpc.e) < 4.0;\n"
     ]
    }
   ],
   "source": [
    "string, class_name = q.make_query(\"dp03_catalogs_10yr\", class_name = \"NEO\", cutoffs = None, join = \"DiaSource\")\n",
    "print(string)\n",
    "# NEO_data_table = q.run_query(string, class_name, \"dp03_catalogs_10yr\", to_pandas = True)"
   ]
  },
  {
   "cell_type": "markdown",
   "id": "b1dc6f81-5219-435d-b3cc-acc2dd3750ad",
   "metadata": {},
   "source": [
    "##### Ex 3: DP03, Cutoffs provided, no join"
   ]
  },
  {
   "cell_type": "code",
   "execution_count": 5,
   "id": "ef3e7141-d7c9-45cb-842e-3c1d94d86362",
   "metadata": {
    "execution": {
     "iopub.execute_input": "2025-07-18T14:28:13.386977Z",
     "iopub.status.busy": "2025-07-18T14:28:13.386190Z",
     "iopub.status.idle": "2025-07-18T14:28:13.390773Z",
     "shell.execute_reply": "2025-07-18T14:28:13.390129Z",
     "shell.execute_reply.started": "2025-07-18T14:28:13.386949Z"
    }
   },
   "outputs": [
    {
     "name": "stdout",
     "output_type": "stream",
     "text": [
      "SELECT mpc.incl, mpc.q, mpc.e, mpc.ssObjectID, mpc.mpcDesignation FROM dp03_catalogs_10yr.MPCORB AS mpc\n",
      "    WHERE mpc.q < 1.3 AND mpc.e < 1.0 AND mpc.q/(1-mpc.e) < 4.0;\n",
      "NEO\n"
     ]
    }
   ],
   "source": [
    "NEO_cutoffs = {\"q_max\": 1.3, \"a_max\": 4.0, \"e_max\": 1.0}\n",
    "\n",
    "string, class_name = q.make_query(\"dp03_catalogs_10yr\", class_name = None, cutoffs = NEO_cutoffs, join = None)\n",
    "print(string)\n",
    "print(class_name)\n",
    "# NEO_data_table = q.run_query(string, class_name, \"dp03_catalogs_10yr\", to_pandas = True)"
   ]
  },
  {
   "cell_type": "markdown",
   "id": "25e36f91-9774-4552-a456-7da2b10c5461",
   "metadata": {},
   "source": [
    "##### Ex 4: DP03, Cutoffs provided, join with SSObject"
   ]
  },
  {
   "cell_type": "code",
   "execution_count": 5,
   "id": "3d5df35c-4fe7-4dc5-b6aa-4f1c09951df9",
   "metadata": {
    "execution": {
     "iopub.execute_input": "2025-07-09T17:28:49.344185Z",
     "iopub.status.busy": "2025-07-09T17:28:49.343993Z",
     "iopub.status.idle": "2025-07-09T17:28:49.479485Z",
     "shell.execute_reply": "2025-07-09T17:28:49.478812Z",
     "shell.execute_reply.started": "2025-07-09T17:28:49.344169Z"
    }
   },
   "outputs": [
    {
     "name": "stdout",
     "output_type": "stream",
     "text": [
      "Querying dp03_catalogs_10yr.SSObject for: ['sso.g_H', 'sso.r_H', 'sso.i_H', 'sso.discoverySubmissionDate', 'sso.numObs']\n",
      "SELECT mpc.incl, mpc.q, mpc.e, mpc.ssObjectID, mpc.mpcDesignation, sso.g_H, sso.r_H, sso.i_H, sso.discoverySubmissionDate, sso.numObs, (sso.g_H - sso.r_H) AS g_r_color, (sso.r_H - sso.i_H) AS r_i_color FROM dp03_catalogs_10yr.MPCORB AS mpc\n",
      "    INNER JOIN dp03_catalogs_10yr.SSObject AS sso ON mpc.ssObjectId = sso.ssObjectId\n",
      "    WHERE mpc.q < 1.3 AND mpc.e < 1.0 AND mpc.q/(1-mpc.e) < 4.0;\n",
      "NEO\n"
     ]
    }
   ],
   "source": [
    "string, class_name = q.make_query(\"dp03_catalogs_10yr\", class_name = None, cutoffs = NEO_cutoffs, join = \"SSObject\")\n",
    "print(string)\n",
    "print(class_name)\n",
    "# NEO_data_table = q.run_query(string, class_name, \"dp03_catalogs_10yr\", to_pandas = True)"
   ]
  },
  {
   "cell_type": "markdown",
   "id": "8a2b2d3f-bcfd-4144-88b0-026dbce1b4ff",
   "metadata": {},
   "source": [
    "## 2. Plotting + Summary Print Statements\n",
    "\n",
    "The query_helpers.py module holds functions that create some useful summary plots and print statements. For our examples, we'll be looking at NEOs in the DP1 catalog. "
   ]
  },
  {
   "cell_type": "markdown",
   "id": "6e313189-753e-4cbe-b899-ddbfd0c10302",
   "metadata": {},
   "source": [
    "##### a vs. e, a vs. i"
   ]
  },
  {
   "cell_type": "code",
   "execution_count": 8,
   "id": "9f31ab30-b511-49c4-93ae-c5a1e092a0bd",
   "metadata": {
    "execution": {
     "iopub.execute_input": "2025-07-21T19:44:32.151629Z",
     "iopub.status.busy": "2025-07-21T19:44:32.150920Z",
     "iopub.status.idle": "2025-07-21T19:44:32.844169Z",
     "shell.execute_reply": "2025-07-21T19:44:32.843518Z",
     "shell.execute_reply.started": "2025-07-21T19:44:32.151594Z"
    }
   },
   "outputs": [
    {
     "name": "stdout",
     "output_type": "stream",
     "text": [
      "Index(['band', 'e', 'incl', 'magTrueVband', 'mpcDesignation', 'q',\n",
      "       'ssObjectID', 'a', 'class_name'],\n",
      "      dtype='object')\n"
     ]
    },
    {
     "data": {
      "image/png": "[encoded data removed]",
      "text/plain": [
       "<Figure size 640x480 with 1 Axes>"
      ]
     },
     "metadata": {},
     "output_type": "display_data"
    },
    {
     "data": {
      "image/png": "[encoded data removed]",
      "text/plain": [
       "<Figure size 640x480 with 1 Axes>"
      ]
     },
     "metadata": {},
     "output_type": "display_data"
    }
   ],
   "source": [
    "print(main_example_table.columns)\n",
    "\n",
    "qh.plot_data(main_example_table, log = True)"
   ]
  },
  {
   "cell_type": "markdown",
   "id": "35ed1e3b-dbbb-4660-82b4-8248098b6450",
   "metadata": {},
   "source": [
    "##### Observations per object?"
   ]
  },
  {
   "cell_type": "code",
   "execution_count": 9,
   "id": "09058507-16da-4f35-81e4-11cc288ff6e7",
   "metadata": {
    "execution": {
     "iopub.execute_input": "2025-07-21T19:44:45.003656Z",
     "iopub.status.busy": "2025-07-21T19:44:45.002734Z",
     "iopub.status.idle": "2025-07-21T19:44:45.008891Z",
     "shell.execute_reply": "2025-07-21T19:44:45.008213Z",
     "shell.execute_reply.started": "2025-07-21T19:44:45.003625Z"
    }
   },
   "outputs": [
    {
     "name": "stdout",
     "output_type": "stream",
     "text": [
      "class_name\n",
      "NEO    1000\n",
      "LPC    1000\n",
      "Name: count, dtype: int64\n"
     ]
    }
   ],
   "source": [
    "counts = qh.type_counts(main_example_table)"
   ]
  },
  {
   "cell_type": "markdown",
   "id": "75e4651b-c985-4825-a0b7-5dbc2fc62ee6",
   "metadata": {},
   "source": [
    "### Joined with DiaSource\n",
    "##### Observations per object, by filter:"
   ]
  },
  {
   "cell_type": "code",
   "execution_count": 10,
   "id": "791e9f84-087c-43ec-8402-2da8ae89c561",
   "metadata": {
    "execution": {
     "iopub.execute_input": "2025-07-21T19:44:48.110786Z",
     "iopub.status.busy": "2025-07-21T19:44:48.110397Z",
     "iopub.status.idle": "2025-07-21T19:44:48.121983Z",
     "shell.execute_reply": "2025-07-21T19:44:48.121293Z",
     "shell.execute_reply.started": "2025-07-21T19:44:48.110761Z"
    }
   },
   "outputs": [
    {
     "name": "stdout",
     "output_type": "stream",
     "text": [
      "# of observations by Object: ssObjectID\n",
      "7130799878658576849    380\n",
      "6945356434253003225    202\n",
      "6943965121319302771    192\n",
      "7129516266284772407    146\n",
      "7126134403324519710    125\n",
      "7135062406265304485     98\n",
      "6946978849104949313     93\n",
      "7116175124439776228     86\n",
      "6944025803906264269     84\n",
      "6947086549701599546     77\n",
      "6952398551183041121     61\n",
      "7112654013333788833     53\n",
      "6946846364482369862     51\n",
      "7139937365086218089     49\n",
      "7117921837937657416     45\n",
      "6947189377618859972     45\n",
      "6951441533523099400     38\n",
      "6945272096356636968     25\n",
      "6943940963192273862     24\n",
      "6946641763099789984     22\n",
      "6950785375934358136     22\n",
      "6945497933279014827     18\n",
      "6950562457293063928     18\n",
      "6951342761878028904     13\n",
      "7129207295544292510     12\n",
      "6949506440316129304      8\n",
      "6951675198317547606      7\n",
      "7124118257423960911      6\n",
      "Name: count, dtype: int64\n",
      "# of observations by Filter: band\n",
      "r    791\n",
      "i    591\n",
      "g    315\n",
      "z    303\n",
      "Name: count, dtype: int64\n",
      "# of unique observations for each unique object, by filter:               ssObjectID band  obs_filter_count\n",
      "0    6943940963192273862    g                 2\n",
      "1    6943940963192273862    i                 7\n",
      "2    6943940963192273862    r                 9\n",
      "3    6943940963192273862    z                 6\n",
      "4    6943965121319302771    g                22\n",
      "..                   ...  ...               ...\n",
      "104  7135062406265304485    z                 3\n",
      "105  7139937365086218089    g                 7\n",
      "106  7139937365086218089    i                23\n",
      "107  7139937365086218089    r                 9\n",
      "108  7139937365086218089    z                10\n",
      "\n",
      "[109 rows x 3 columns]\n"
     ]
    }
   ],
   "source": [
    "observations_by_object_filter = qh.obs_filter(main_example_table)"
   ]
  },
  {
   "cell_type": "code",
   "execution_count": 11,
   "id": "dabab3c8-d87c-4ab6-a70c-61aa03b87b52",
   "metadata": {
    "execution": {
     "iopub.execute_input": "2025-07-21T19:44:51.690341Z",
     "iopub.status.busy": "2025-07-21T19:44:51.689691Z",
     "iopub.status.idle": "2025-07-21T19:44:51.825177Z",
     "shell.execute_reply": "2025-07-21T19:44:51.824283Z",
     "shell.execute_reply.started": "2025-07-21T19:44:51.690315Z"
    }
   },
   "outputs": [
    {
     "name": "stdout",
     "output_type": "stream",
     "text": [
      "Standard Deviation of Range: 2.5741705894470215\n",
      "Mean Range: 3.172876\n",
      "Large range criterion: 8.321217\n"
     ]
    },
    {
     "ename": "IndexError",
     "evalue": "single positional indexer is out-of-bounds",
     "output_type": "error",
     "traceback": [
      "\u001b[0;31m---------------------------------------------------------------------------\u001b[0m",
      "\u001b[0;31mIndexError\u001b[0m                                Traceback (most recent call last)",
      "Cell \u001b[0;32mIn[11], line 3\u001b[0m\n\u001b[1;32m      1\u001b[0m main_ex_with_mags \u001b[38;5;241m=\u001b[39m qh\u001b[38;5;241m.\u001b[39mdata_grouped_mags(main_example_table)\n\u001b[0;32m----> 3\u001b[0m \u001b[43mqh\u001b[49m\u001b[38;5;241;43m.\u001b[39;49m\u001b[43mmag_range_plot\u001b[49m\u001b[43m(\u001b[49m\u001b[43mmain_ex_with_mags\u001b[49m\u001b[43m,\u001b[49m\u001b[43m \u001b[49m\u001b[43mhead_number\u001b[49m\u001b[43m \u001b[49m\u001b[38;5;241;43m=\u001b[39;49m\u001b[43m \u001b[49m\u001b[38;5;241;43m5\u001b[39;49m\u001b[43m)\u001b[49m\n",
      "File \u001b[0;32m~/notebooks/rsp_queries/sso_query/query_helpers.py:166\u001b[0m, in \u001b[0;36mmag_range_plot\u001b[0;34m(data_table, head_number)\u001b[0m\n\u001b[1;32m    157\u001b[0m \u001b[38;5;28;01mdef\u001b[39;00m\u001b[38;5;250m \u001b[39m\u001b[38;5;21mmag_range_plot\u001b[39m(data_table, head_number \u001b[38;5;241m=\u001b[39m \u001b[38;5;241m5\u001b[39m):\n\u001b[1;32m    158\u001b[0m \u001b[38;5;250m    \u001b[39m\u001b[38;5;124;03m\"\"\"\u001b[39;00m\n\u001b[1;32m    159\u001b[0m \u001b[38;5;124;03m    Function plots magnitude ranges for the specified number of objects.\u001b[39;00m\n\u001b[1;32m    160\u001b[0m \u001b[38;5;124;03m    Function plots magnitude ranges (V) for the first number of objects. \u001b[39;00m\n\u001b[0;32m   (...)\u001b[0m\n\u001b[1;32m    164\u001b[0m \u001b[38;5;124;03m        number: Int representing the number of objects to plot. \u001b[39;00m\n\u001b[1;32m    165\u001b[0m \u001b[38;5;124;03m    \"\"\"\u001b[39;00m\n\u001b[0;32m--> 166\u001b[0m     class_name \u001b[38;5;241m=\u001b[39m \u001b[43mdata_table\u001b[49m\u001b[43m[\u001b[49m\u001b[38;5;124;43m'\u001b[39;49m\u001b[38;5;124;43mclass_name\u001b[39;49m\u001b[38;5;124;43m'\u001b[39;49m\u001b[43m]\u001b[49m\u001b[38;5;241;43m.\u001b[39;49m\u001b[43miloc\u001b[49m\u001b[43m[\u001b[49m\u001b[38;5;241;43m0\u001b[39;49m\u001b[43m]\u001b[49m\n\u001b[1;32m    167\u001b[0m     color_map \u001b[38;5;241m=\u001b[39m {\n\u001b[1;32m    168\u001b[0m     \u001b[38;5;124m\"\u001b[39m\u001b[38;5;124mNEO\u001b[39m\u001b[38;5;124m\"\u001b[39m: \u001b[38;5;124m\"\u001b[39m\u001b[38;5;124mred\u001b[39m\u001b[38;5;124m\"\u001b[39m,\n\u001b[1;32m    169\u001b[0m     \u001b[38;5;124m\"\u001b[39m\u001b[38;5;124mTNO\u001b[39m\u001b[38;5;124m\"\u001b[39m: \u001b[38;5;124m\"\u001b[39m\u001b[38;5;124mblue\u001b[39m\u001b[38;5;124m\"\u001b[39m,\n\u001b[0;32m   (...)\u001b[0m\n\u001b[1;32m    174\u001b[0m     \u001b[38;5;124m\"\u001b[39m\u001b[38;5;124mNtrojan\u001b[39m\u001b[38;5;124m\"\u001b[39m: \u001b[38;5;124m\"\u001b[39m\u001b[38;5;124mpink\u001b[39m\u001b[38;5;124m\"\u001b[39m\n\u001b[1;32m    175\u001b[0m     }\n\u001b[1;32m    176\u001b[0m     color \u001b[38;5;241m=\u001b[39m color_map\u001b[38;5;241m.\u001b[39mget(class_name, \u001b[38;5;124m\"\u001b[39m\u001b[38;5;124mgray\u001b[39m\u001b[38;5;124m\"\u001b[39m)  \u001b[38;5;66;03m# fallback to 'gray' if type unknown\u001b[39;00m\n",
      "File \u001b[0;32m/opt/lsst/software/stack/conda/envs/lsst-scipipe-10.0.0/lib/python3.12/site-packages/pandas/core/indexing.py:1191\u001b[0m, in \u001b[0;36m_LocationIndexer.__getitem__\u001b[0;34m(self, key)\u001b[0m\n\u001b[1;32m   1189\u001b[0m maybe_callable \u001b[38;5;241m=\u001b[39m com\u001b[38;5;241m.\u001b[39mapply_if_callable(key, \u001b[38;5;28mself\u001b[39m\u001b[38;5;241m.\u001b[39mobj)\n\u001b[1;32m   1190\u001b[0m maybe_callable \u001b[38;5;241m=\u001b[39m \u001b[38;5;28mself\u001b[39m\u001b[38;5;241m.\u001b[39m_check_deprecated_callable_usage(key, maybe_callable)\n\u001b[0;32m-> 1191\u001b[0m \u001b[38;5;28;01mreturn\u001b[39;00m \u001b[38;5;28;43mself\u001b[39;49m\u001b[38;5;241;43m.\u001b[39;49m\u001b[43m_getitem_axis\u001b[49m\u001b[43m(\u001b[49m\u001b[43mmaybe_callable\u001b[49m\u001b[43m,\u001b[49m\u001b[43m \u001b[49m\u001b[43maxis\u001b[49m\u001b[38;5;241;43m=\u001b[39;49m\u001b[43maxis\u001b[49m\u001b[43m)\u001b[49m\n",
      "File \u001b[0;32m/opt/lsst/software/stack/conda/envs/lsst-scipipe-10.0.0/lib/python3.12/site-packages/pandas/core/indexing.py:1752\u001b[0m, in \u001b[0;36m_iLocIndexer._getitem_axis\u001b[0;34m(self, key, axis)\u001b[0m\n\u001b[1;32m   1749\u001b[0m     \u001b[38;5;28;01mraise\u001b[39;00m \u001b[38;5;167;01mTypeError\u001b[39;00m(\u001b[38;5;124m\"\u001b[39m\u001b[38;5;124mCannot index by location index with a non-integer key\u001b[39m\u001b[38;5;124m\"\u001b[39m)\n\u001b[1;32m   1751\u001b[0m \u001b[38;5;66;03m# validate the location\u001b[39;00m\n\u001b[0;32m-> 1752\u001b[0m \u001b[38;5;28;43mself\u001b[39;49m\u001b[38;5;241;43m.\u001b[39;49m\u001b[43m_validate_integer\u001b[49m\u001b[43m(\u001b[49m\u001b[43mkey\u001b[49m\u001b[43m,\u001b[49m\u001b[43m \u001b[49m\u001b[43maxis\u001b[49m\u001b[43m)\u001b[49m\n\u001b[1;32m   1754\u001b[0m \u001b[38;5;28;01mreturn\u001b[39;00m \u001b[38;5;28mself\u001b[39m\u001b[38;5;241m.\u001b[39mobj\u001b[38;5;241m.\u001b[39m_ixs(key, axis\u001b[38;5;241m=\u001b[39maxis)\n",
      "File \u001b[0;32m/opt/lsst/software/stack/conda/envs/lsst-scipipe-10.0.0/lib/python3.12/site-packages/pandas/core/indexing.py:1685\u001b[0m, in \u001b[0;36m_iLocIndexer._validate_integer\u001b[0;34m(self, key, axis)\u001b[0m\n\u001b[1;32m   1683\u001b[0m len_axis \u001b[38;5;241m=\u001b[39m \u001b[38;5;28mlen\u001b[39m(\u001b[38;5;28mself\u001b[39m\u001b[38;5;241m.\u001b[39mobj\u001b[38;5;241m.\u001b[39m_get_axis(axis))\n\u001b[1;32m   1684\u001b[0m \u001b[38;5;28;01mif\u001b[39;00m key \u001b[38;5;241m>\u001b[39m\u001b[38;5;241m=\u001b[39m len_axis \u001b[38;5;129;01mor\u001b[39;00m key \u001b[38;5;241m<\u001b[39m \u001b[38;5;241m-\u001b[39mlen_axis:\n\u001b[0;32m-> 1685\u001b[0m     \u001b[38;5;28;01mraise\u001b[39;00m \u001b[38;5;167;01mIndexError\u001b[39;00m(\u001b[38;5;124m\"\u001b[39m\u001b[38;5;124msingle positional indexer is out-of-bounds\u001b[39m\u001b[38;5;124m\"\u001b[39m)\n",
      "\u001b[0;31mIndexError\u001b[0m: single positional indexer is out-of-bounds"
     ]
    }
   ],
   "source": [
    "main_ex_with_mags = qh.data_grouped_mags(main_example_table)\n",
    "\n",
    "qh.mag_range_plot(main_ex_with_mags, head_number = 5)\n",
    "\n",
    "mag_range_plot"
   ]
  },
  {
   "cell_type": "code",
   "execution_count": null,
   "id": "e8883a20-fefa-4b2d-b4f4-51e753ac27fe",
   "metadata": {},
   "outputs": [],
   "source": []
  }
 ],
 "metadata": {
  "kernelspec": {
   "display_name": "LSST",
   "language": "python",
   "name": "lsst"
  },
  "language_info": {
   "codemirror_mode": {
    "name": "ipython",
    "version": 3
   },
   "file_extension": ".py",
   "mimetype": "text/x-python",
   "name": "python",
   "nbconvert_exporter": "python",
   "pygments_lexer": "ipython3",
   "version": "3.12.11"
  }
 },
 "nbformat": 4,
 "nbformat_minor": 5
}
