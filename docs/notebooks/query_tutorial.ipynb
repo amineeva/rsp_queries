{
 "cells": [
  {
   "cell_type": "markdown",
   "id": "de8ebdb8-6e4f-4389-b722-d8d8d1214ea9",
   "metadata": {},
   "source": [
    "## Query.py Tutorial Doc"
   ]
  },
  {
   "cell_type": "markdown",
   "id": "128167eb-a785-4294-9f6b-8dcd79bce53d",
   "metadata": {},
   "source": [
    "This tutorial shows you how to create, run, and make some basic plots from the DP1 and DP03 catalogs. \n",
    "\n",
    "First, we will show you a full example, and then provide more query examples for your reference. "
   ]
  },
  {
   "cell_type": "markdown",
   "id": "2a3ba0cc-0fc5-4f29-ae07-bfc49f1adeb7",
   "metadata": {},
   "source": [
    "For this tutotial, we'll be looking NEO objects. query.py contains a global dictionary that contains all searchable classes and their orbital parameters:\n",
    "\n",
    "    \"LPC\": {\"a_min\": 50.0},\n",
    "    \"TNO\": {\"a_min\": 30.1, \"a_max\": 50.0},\n",
    "    \"Ntrojan\": {\"a_min\": 29.8, \"a_max\": 30.4},\n",
    "    \"NEO\": {\"q_max\": 1.3, \"a_max\": 4.0, \"e_max\": 1.0},\n",
    "    \"MBA\": {\"q_min\": 1.66, \"a_min\": 2.0, \"a_max\": 3.2},\n",
    "    \"Centaur\": {\"a_min\": 5.5, \"a_max\": 30.1},\n",
    "    \"Jtrojan\": {\"a_min\": 4.8, \"a_max\": 5.4, \"e_max\": 0.3},\n",
    "    \"JFC\": {\"tj_min\": 2.0, \"tj_max\": 3.0}\n",
    "\n",
    "The 'catalog' variable allows you to query different catalogs; the options are 'dp03_catalogs_10yr' and'dp1'.\n",
    "\n",
    "The 'join' variable allows you to perform an inner join with either 'DiaSource' or 'SSObject'.\n",
    "\n",
    "The first set of examples will use DP1. The examples at the bottom will use DP03. "
   ]
  },
  {
   "cell_type": "code",
   "execution_count": 5,
   "id": "c901b3e7-b1f1-4bb2-865a-a793e954dc62",
   "metadata": {
    "execution": {
     "iopub.execute_input": "2025-07-18T14:57:29.632840Z",
     "iopub.status.busy": "2025-07-18T14:57:29.632181Z",
     "iopub.status.idle": "2025-07-18T14:57:29.636175Z",
     "shell.execute_reply": "2025-07-18T14:57:29.635625Z",
     "shell.execute_reply.started": "2025-07-18T14:57:29.632811Z"
    }
   },
   "outputs": [],
   "source": [
    "from lsst.rsp import get_tap_service\n",
    "import sys\n",
    "import os\n",
    "sys.path.append(os.path.abspath('../../sso_query/'))\n",
    "import query as q"
   ]
  },
  {
   "cell_type": "markdown",
   "id": "ab183437-2576-4bd9-b19a-1dbbcc107918",
   "metadata": {},
   "source": [
    "After generating your desired query, it's time to run it. \n",
    "\n",
    "The run_query function can return either an AstroPy table (to_pandas = False) or a Pandas dataframe (to_pandas = True). \n",
    "\n",
    "The function automatically prints the first few rows of your data. "
   ]
  },
  {
   "cell_type": "markdown",
   "id": "384628b4-c00c-4f49-bd7d-53a1df9daae6",
   "metadata": {},
   "source": [
    "### Full example: DP1, NEOs, DiaSource"
   ]
  },
  {
   "cell_type": "code",
   "execution_count": 6,
   "id": "b5860ea4-ed08-4a28-b301-f21ff95385d4",
   "metadata": {
    "execution": {
     "iopub.execute_input": "2025-07-18T14:59:38.604579Z",
     "iopub.status.busy": "2025-07-18T14:59:38.603671Z",
     "iopub.status.idle": "2025-07-18T14:59:54.334951Z",
     "shell.execute_reply": "2025-07-18T14:59:54.334268Z",
     "shell.execute_reply.started": "2025-07-18T14:59:38.604551Z"
    }
   },
   "outputs": [
    {
     "name": "stdout",
     "output_type": "stream",
     "text": [
      "Querying dp1.DiaSource for: ['dias.apFlux', 'dias.apFlux_flag', 'dias.apFluxErr', 'dias.band']\n",
      "SELECT mpc.incl, mpc.q, mpc.e, mpc.ssObjectID, mpc.mpcDesignation, dias.apFlux, dias.apFlux_flag, dias.apFluxErr, dias.band FROM dp1.MPCORB AS mpc\n",
      "    INNER JOIN dp1.DiaSource AS dias ON mpc.ssObjectId = dias.ssObjectId\n",
      "    WHERE mpc.q < 1.3 AND mpc.e < 1.0 AND mpc.q/(1-mpc.e) < 4.0;\n",
      "Job phase is COMPLETED\n",
      "     apFlux   apFluxErr  apFlux_flag band         e       incl mpcDesignation  \\\n",
      "0  137561.0  464.989014        False    g  0.173054  18.283831       2023 UN9   \n",
      "1  143463.0  498.498993        False    g  0.173054  18.283831       2023 UN9   \n",
      "2  240864.0  609.564026        False    r  0.173054  18.283831       2023 UN9   \n",
      "3  217844.0  670.518005        False    r  0.173054  18.283831       2023 UN9   \n",
      "4  278750.0  923.974976        False    i  0.173054  18.283831       2023 UN9   \n",
      "\n",
      "         q         ssObjectID         a class_name  \n",
      "0  0.80813  21165819307243854  0.977247        NEO  \n",
      "1  0.80813  21165819307243854  0.977247        NEO  \n",
      "2  0.80813  21165819307243854  0.977247        NEO  \n",
      "3  0.80813  21165819307243854  0.977247        NEO  \n",
      "4  0.80813  21165819307243854  0.977247        NEO  \n"
     ]
    }
   ],
   "source": [
    "# create the query\n",
    "string, class_name = q.make_query(catalog = \"dp1\", class_name = None, cutoffs = {\"q_max\": 1.3, \"a_max\": 4.0, \"e_max\": 1.0}, join = \"DiaSource\")\n",
    "print(string)\n",
    "\n",
    "# run the query\n",
    "NEO_data_table = q.run_query(string, class_name, \"dp1\", to_pandas = True)\n",
    "\n",
    "# summary plots\n"
   ]
  },
  {
   "cell_type": "code",
   "execution_count": 7,
   "id": "49ebbdc6-6322-4d11-9038-7984d6effac9",
   "metadata": {
    "execution": {
     "iopub.execute_input": "2025-07-18T14:59:54.336362Z",
     "iopub.status.busy": "2025-07-18T14:59:54.335991Z",
     "iopub.status.idle": "2025-07-18T14:59:54.340468Z",
     "shell.execute_reply": "2025-07-18T14:59:54.339954Z",
     "shell.execute_reply.started": "2025-07-18T14:59:54.336341Z"
    }
   },
   "outputs": [
    {
     "data": {
      "text/plain": [
       "Index(['apFlux', 'apFluxErr', 'apFlux_flag', 'band', 'e', 'incl',\n",
       "       'mpcDesignation', 'q', 'ssObjectID', 'a', 'class_name'],\n",
       "      dtype='object')"
      ]
     },
     "execution_count": 7,
     "metadata": {},
     "output_type": "execute_result"
    }
   ],
   "source": [
    "NEO_data_table.columns"
   ]
  },
  {
   "cell_type": "markdown",
   "id": "7a48a18c-8adf-4762-9d9d-d65676dc5efc",
   "metadata": {},
   "source": [
    "### DP1 Examples\n",
    "Both examples can be run by uncommeting the 'q.run_query' line of code. \n",
    "\n",
    "Because SSObject is a one-to-one match to the MPCORB catalog and DiaSource has multiple observations per object, note that the SSObject query will run much faster than the DiaSource query. "
   ]
  },
  {
   "cell_type": "markdown",
   "id": "a1eb7457-a784-438e-9d69-5bdce7c0ca91",
   "metadata": {},
   "source": [
    "##### Ex 1: Class name provided, join with SSObject"
   ]
  },
  {
   "cell_type": "code",
   "execution_count": 3,
   "id": "270c0e2e-9285-4e96-9c51-76935633ff7a",
   "metadata": {
    "execution": {
     "iopub.execute_input": "2025-07-18T14:45:14.525056Z",
     "iopub.status.busy": "2025-07-18T14:45:14.523958Z",
     "iopub.status.idle": "2025-07-18T14:45:14.730634Z",
     "shell.execute_reply": "2025-07-18T14:45:14.729995Z",
     "shell.execute_reply.started": "2025-07-18T14:45:14.525018Z"
    }
   },
   "outputs": [
    {
     "name": "stdout",
     "output_type": "stream",
     "text": [
      "Querying dp1.SSObject for: ['sso.discoverySubmissionDate', 'sso.numObs']\n",
      "SELECT mpc.incl, mpc.q, mpc.e, mpc.ssObjectID, mpc.mpcDesignation, sso.discoverySubmissionDate, sso.numObs FROM dp1.MPCORB AS mpc\n",
      "    INNER JOIN dp1.SSObject AS sso ON mpc.ssObjectId = sso.ssObjectId\n",
      "    WHERE mpc.q < 1.3 AND mpc.e < 1.0 AND mpc.q/(1-mpc.e) < 4.0;\n"
     ]
    }
   ],
   "source": [
    "string, class_name = q.make_query(catalog = \"dp1\", class_name = \"NEO\", cutoffs = None, join = \"SSObject\")\n",
    "print(string)\n",
    "# NEO_data_table = q.run_query(string, class_name, \"dp1\", to_pandas = True)"
   ]
  },
  {
   "cell_type": "markdown",
   "id": "fcc8c63a-85f1-4be5-bfbb-7c09166f0c9c",
   "metadata": {},
   "source": [
    "##### Ex 2: Class name provided, join with DiaSource"
   ]
  },
  {
   "cell_type": "code",
   "execution_count": 4,
   "id": "db591347-1bb7-4101-af59-c0102964e833",
   "metadata": {
    "execution": {
     "iopub.execute_input": "2025-07-18T14:45:52.762753Z",
     "iopub.status.busy": "2025-07-18T14:45:52.762104Z",
     "iopub.status.idle": "2025-07-18T14:45:52.960565Z",
     "shell.execute_reply": "2025-07-18T14:45:52.959837Z",
     "shell.execute_reply.started": "2025-07-18T14:45:52.762724Z"
    }
   },
   "outputs": [
    {
     "name": "stdout",
     "output_type": "stream",
     "text": [
      "Querying dp1.DiaSource for: ['dias.apFlux', 'dias.apFlux_flag', 'dias.apFluxErr', 'dias.band']\n",
      "SELECT mpc.incl, mpc.q, mpc.e, mpc.ssObjectID, mpc.mpcDesignation, dias.apFlux, dias.apFlux_flag, dias.apFluxErr, dias.band FROM dp1.MPCORB AS mpc\n",
      "    INNER JOIN dp1.DiaSource AS dias ON mpc.ssObjectId = dias.ssObjectId\n",
      "    WHERE mpc.q < 1.3 AND mpc.e < 1.0 AND mpc.q/(1-mpc.e) < 4.0;\n"
     ]
    }
   ],
   "source": [
    "string, class_name = q.make_query(catalog = \"dp1\", class_name = None, cutoffs = {\"q_max\": 1.3, \"a_max\": 4.0, \"e_max\": 1.0}, join = \"DiaSource\")\n",
    "print(string)\n",
    "# NEO_data_table = q.run_query(string, class_name, \"dp1\", to_pandas = True)"
   ]
  },
  {
   "cell_type": "markdown",
   "id": "c2822c51-5222-4033-8eba-d958dcbb15e4",
   "metadata": {},
   "source": [
    "### DP03 Examples"
   ]
  },
  {
   "cell_type": "markdown",
   "id": "054cec69-43dd-48c0-9349-957fa57e7851",
   "metadata": {},
   "source": [
    "##### Ex 1: DP03, Class name provided, no join. "
   ]
  },
  {
   "cell_type": "code",
   "execution_count": 3,
   "id": "d5f36750-3576-4044-86dc-e652fe0151ba",
   "metadata": {
    "execution": {
     "iopub.execute_input": "2025-07-18T14:28:08.868864Z",
     "iopub.status.busy": "2025-07-18T14:28:08.868070Z",
     "iopub.status.idle": "2025-07-18T14:28:08.872246Z",
     "shell.execute_reply": "2025-07-18T14:28:08.871740Z",
     "shell.execute_reply.started": "2025-07-18T14:28:08.868836Z"
    }
   },
   "outputs": [
    {
     "name": "stdout",
     "output_type": "stream",
     "text": [
      "SELECT mpc.incl, mpc.q, mpc.e, mpc.ssObjectID, mpc.mpcDesignation FROM dp03_catalogs_10yr.MPCORB AS mpc\n",
      "    WHERE mpc.q < 1.3 AND mpc.e < 1.0 AND mpc.q/(1-mpc.e) < 4.0;\n"
     ]
    }
   ],
   "source": [
    "string, class_name = q.make_query(\"dp03_catalogs_10yr\", class_name = \"NEO\", cutoffs = None, join = None)\n",
    "print(string)"
   ]
  },
  {
   "cell_type": "markdown",
   "id": "08d51ddb-754d-4a35-97c4-b220ee95ace3",
   "metadata": {},
   "source": [
    "##### Ex 2: DP03, Class name provided, join table with DiaSource"
   ]
  },
  {
   "cell_type": "code",
   "execution_count": 4,
   "id": "eedaae49-5374-4100-be56-39cf303025b8",
   "metadata": {
    "execution": {
     "iopub.execute_input": "2025-07-18T14:28:11.527607Z",
     "iopub.status.busy": "2025-07-18T14:28:11.526984Z",
     "iopub.status.idle": "2025-07-18T14:28:11.689229Z",
     "shell.execute_reply": "2025-07-18T14:28:11.688684Z",
     "shell.execute_reply.started": "2025-07-18T14:28:11.527582Z"
    }
   },
   "outputs": [
    {
     "name": "stdout",
     "output_type": "stream",
     "text": [
      "Querying dp03_catalogs_10yr.DiaSource for: ['dias.magTrueVband', 'dias.band']\n",
      "SELECT mpc.incl, mpc.q, mpc.e, mpc.ssObjectID, mpc.mpcDesignation, dias.magTrueVband, dias.band FROM dp03_catalogs_10yr.MPCORB AS mpc\n",
      "    INNER JOIN dp03_catalogs_10yr.DiaSource AS dias ON mpc.ssObjectId = dias.ssObjectId\n",
      "    WHERE mpc.q < 1.3 AND mpc.e < 1.0 AND mpc.q/(1-mpc.e) < 4.0;\n"
     ]
    }
   ],
   "source": [
    "string, class_name = q.make_query(\"dp03_catalogs_10yr\", class_name = \"NEO\", cutoffs = None, join = \"DiaSource\")\n",
    "print(string)"
   ]
  },
  {
   "cell_type": "markdown",
   "id": "b1dc6f81-5219-435d-b3cc-acc2dd3750ad",
   "metadata": {},
   "source": [
    "##### Ex 3: DP03, Cutoffs provided, no join"
   ]
  },
  {
   "cell_type": "code",
   "execution_count": 5,
   "id": "ef3e7141-d7c9-45cb-842e-3c1d94d86362",
   "metadata": {
    "execution": {
     "iopub.execute_input": "2025-07-18T14:28:13.386977Z",
     "iopub.status.busy": "2025-07-18T14:28:13.386190Z",
     "iopub.status.idle": "2025-07-18T14:28:13.390773Z",
     "shell.execute_reply": "2025-07-18T14:28:13.390129Z",
     "shell.execute_reply.started": "2025-07-18T14:28:13.386949Z"
    }
   },
   "outputs": [
    {
     "name": "stdout",
     "output_type": "stream",
     "text": [
      "SELECT mpc.incl, mpc.q, mpc.e, mpc.ssObjectID, mpc.mpcDesignation FROM dp03_catalogs_10yr.MPCORB AS mpc\n",
      "    WHERE mpc.q < 1.3 AND mpc.e < 1.0 AND mpc.q/(1-mpc.e) < 4.0;\n",
      "NEO\n"
     ]
    }
   ],
   "source": [
    "NEO_cutoffs = {\"q_max\": 1.3, \"a_max\": 4.0, \"e_max\": 1.0}\n",
    "\n",
    "string, class_name = q.make_query(\"dp03_catalogs_10yr\", class_name = None, cutoffs = NEO_cutoffs, join = None)\n",
    "print(string)\n",
    "print(class_name)"
   ]
  },
  {
   "cell_type": "markdown",
   "id": "25e36f91-9774-4552-a456-7da2b10c5461",
   "metadata": {},
   "source": [
    "##### Ex 4: DP03, Cutoffs provided, join with SSObject"
   ]
  },
  {
   "cell_type": "code",
   "execution_count": 5,
   "id": "3d5df35c-4fe7-4dc5-b6aa-4f1c09951df9",
   "metadata": {
    "execution": {
     "iopub.execute_input": "2025-07-09T17:28:49.344185Z",
     "iopub.status.busy": "2025-07-09T17:28:49.343993Z",
     "iopub.status.idle": "2025-07-09T17:28:49.479485Z",
     "shell.execute_reply": "2025-07-09T17:28:49.478812Z",
     "shell.execute_reply.started": "2025-07-09T17:28:49.344169Z"
    }
   },
   "outputs": [
    {
     "name": "stdout",
     "output_type": "stream",
     "text": [
      "Querying dp03_catalogs_10yr.SSObject for: ['sso.g_H', 'sso.r_H', 'sso.i_H', 'sso.discoverySubmissionDate', 'sso.numObs']\n",
      "SELECT mpc.incl, mpc.q, mpc.e, mpc.ssObjectID, mpc.mpcDesignation, sso.g_H, sso.r_H, sso.i_H, sso.discoverySubmissionDate, sso.numObs, (sso.g_H - sso.r_H) AS g_r_color, (sso.r_H - sso.i_H) AS r_i_color FROM dp03_catalogs_10yr.MPCORB AS mpc\n",
      "    INNER JOIN dp03_catalogs_10yr.SSObject AS sso ON mpc.ssObjectId = sso.ssObjectId\n",
      "    WHERE mpc.q < 1.3 AND mpc.e < 1.0 AND mpc.q/(1-mpc.e) < 4.0;\n",
      "NEO\n"
     ]
    }
   ],
   "source": [
    "string, class_name = q.make_query(\"dp03_catalogs_10yr\", class_name = None, cutoffs = NEO_cutoffs, join = \"SSObject\")\n",
    "print(string)\n",
    "print(class_name)"
   ]
  },
  {
   "cell_type": "code",
   "execution_count": 6,
   "id": "f034ae84-4ddc-4923-b4c6-0803720aac6f",
   "metadata": {
    "execution": {
     "iopub.execute_input": "2025-07-09T17:28:49.482268Z",
     "iopub.status.busy": "2025-07-09T17:28:49.482059Z",
     "iopub.status.idle": "2025-07-09T17:28:58.960386Z",
     "shell.execute_reply": "2025-07-09T17:28:58.959712Z",
     "shell.execute_reply.started": "2025-07-09T17:28:49.482247Z"
    }
   },
   "outputs": [
    {
     "name": "stdout",
     "output_type": "stream",
     "text": [
      "Job phase is COMPLETED\n",
      "   discoverySubmissionDate         e        g_H  g_r_color        i_H  \\\n",
      "0                  60747.0  0.396081  13.476295   0.669659  12.608139   \n",
      "1                  60219.0  0.435987  18.141359   0.641882  17.297379   \n",
      "2                  60422.0  0.763999  19.550732   0.634323  18.710812   \n",
      "3                  60560.0  0.623179  18.261578   0.624949  17.455847   \n",
      "4                  60224.0  0.712520  16.118109   0.659043  15.249735   \n",
      "\n",
      "       incl mpcDesignation  numObs         q        r_H  r_i_color  \\\n",
      "0   8.45061        1929 SH      59  1.123543  12.806637   0.198498   \n",
      "1  11.88325       1932 EA1     282  1.080947  17.499477   0.202099   \n",
      "2   1.32170        1936 CA     254  0.441069  18.916409   0.205597   \n",
      "3   6.06758        1937 UB     156  0.622294  17.636629   0.180782   \n",
      "4   2.52162        1947 XC     321  0.625595  15.459065   0.209331   \n",
      "\n",
      "            ssObjectID         a class_name  \n",
      "0  3351269693330531197  1.860420        NEO  \n",
      "1 -5234750409166262016  1.916528        NEO  \n",
      "2  7991128850154218427  1.868924        NEO  \n",
      "3 -7789613295760699323  1.651432        NEO  \n",
      "4  8551587316774204226  2.176135        NEO  \n"
     ]
    }
   ],
   "source": [
    "NEO_data_table = q.run_query(string, class_name, \"dp03_catalogs_10yr\", to_pandas = True)"
   ]
  },
  {
   "cell_type": "code",
   "execution_count": 7,
   "id": "29fe9e64-5e82-4363-a7d7-cccfcf25a3e2",
   "metadata": {
    "execution": {
     "iopub.execute_input": "2025-07-09T17:28:58.961661Z",
     "iopub.status.busy": "2025-07-09T17:28:58.961199Z",
     "iopub.status.idle": "2025-07-09T17:28:58.965333Z",
     "shell.execute_reply": "2025-07-09T17:28:58.964764Z",
     "shell.execute_reply.started": "2025-07-09T17:28:58.961637Z"
    }
   },
   "outputs": [
    {
     "name": "stdout",
     "output_type": "stream",
     "text": [
      "Index(['discoverySubmissionDate', 'e', 'g_H', 'g_r_color', 'i_H', 'incl',\n",
      "       'mpcDesignation', 'numObs', 'q', 'r_H', 'r_i_color', 'ssObjectID', 'a',\n",
      "       'class_name'],\n",
      "      dtype='object')\n"
     ]
    }
   ],
   "source": [
    "print(NEO_data_table.columns)"
   ]
  }
 ],
 "metadata": {
  "kernelspec": {
   "display_name": "LSST",
   "language": "python",
   "name": "lsst"
  },
  "language_info": {
   "codemirror_mode": {
    "name": "ipython",
    "version": 3
   },
   "file_extension": ".py",
   "mimetype": "text/x-python",
   "name": "python",
   "nbconvert_exporter": "python",
   "pygments_lexer": "ipython3",
   "version": "3.12.11"
  }
 },
 "nbformat": 4,
 "nbformat_minor": 5
}
