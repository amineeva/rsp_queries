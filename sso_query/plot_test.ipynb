{
 "cells": [
  {
   "cell_type": "markdown",
   "id": "28ad7c2e-ee12-4dc3-8814-e2582f0b402c",
   "metadata": {},
   "source": [
    "### Plotting Test\n",
    "Alex is using this Jupyter notebook to test the plotting + print statements from query.py."
   ]
  },
  {
   "cell_type": "code",
   "execution_count": 1,
   "id": "afbeed48-ea78-4823-8843-e7c633ce39fb",
   "metadata": {
    "execution": {
     "iopub.execute_input": "2025-07-02T15:47:01.627891Z",
     "iopub.status.busy": "2025-07-02T15:47:01.627699Z",
     "iopub.status.idle": "2025-07-02T15:47:02.583363Z",
     "shell.execute_reply": "2025-07-02T15:47:02.582766Z",
     "shell.execute_reply.started": "2025-07-02T15:47:01.627872Z"
    }
   },
   "outputs": [],
   "source": [
    "import numpy as np\n",
    "import matplotlib.pyplot as plt\n",
    "import pandas as pd\n",
    "from lsst.rsp import get_tap_service\n",
    "import query as q"
   ]
  },
  {
   "cell_type": "markdown",
   "id": "1f86632e-5cc4-4990-9ec7-c4757444c80f",
   "metadata": {},
   "source": [
    "##### Testing object classifcation\n",
    "There are two ways this classification function works:\n",
    "1. Providing orbit parameters, returning a corresponding object type\n",
    "2. Providing an object type, reutrning corresponding orbit parameters"
   ]
  },
  {
   "cell_type": "code",
   "execution_count": 2,
   "id": "fb50a247-c69b-4a00-8c77-4c2a196e90ad",
   "metadata": {
    "execution": {
     "iopub.execute_input": "2025-07-02T15:47:02.586257Z",
     "iopub.status.busy": "2025-07-02T15:47:02.586056Z",
     "iopub.status.idle": "2025-07-02T15:47:02.589945Z",
     "shell.execute_reply": "2025-07-02T15:47:02.589447Z",
     "shell.execute_reply.started": "2025-07-02T15:47:02.586238Z"
    }
   },
   "outputs": [
    {
     "name": "stdout",
     "output_type": "stream",
     "text": [
      "NEO\n",
      "{'q_cutoff': 1.3, 'a_cutoff': 4.0, 'e_cutoff': 1.0}\n"
     ]
    }
   ],
   "source": [
    "# 1\n",
    "input_params = {\n",
    "        \"q_cutoff_min\": None, \n",
    "        \"q_cutoff\": 1.3, \n",
    "        \"a_cutoff_min\": None, \n",
    "        \"a_cutoff\": 4.0, \n",
    "        \"e_cutoff_min\": None, \n",
    "        \"e_cutoff\": 1.0}\n",
    "object_type = q.type_classification(input_params = input_params)\n",
    "print(object_type)\n",
    "\n",
    "#2\n",
    "params = q.type_classification(object_type = \"NEO\")\n",
    "print(params)"
   ]
  },
  {
   "cell_type": "markdown",
   "id": "067a62ee-44d4-4d91-9bff-b67ebe3b1342",
   "metadata": {},
   "source": [
    "Now that know our classification works, let's try making a full query. "
   ]
  },
  {
   "cell_type": "code",
   "execution_count": 3,
   "id": "5d4f2609-6337-48dc-9c7a-93e4685452ea",
   "metadata": {
    "execution": {
     "iopub.execute_input": "2025-07-02T15:47:02.592128Z",
     "iopub.status.busy": "2025-07-02T15:47:02.591947Z",
     "iopub.status.idle": "2025-07-02T15:47:02.610925Z",
     "shell.execute_reply": "2025-07-02T15:47:02.610368Z",
     "shell.execute_reply.started": "2025-07-02T15:47:02.592110Z"
    }
   },
   "outputs": [
    {
     "name": "stdout",
     "output_type": "stream",
     "text": [
      "SELECT mpc.incl, mpc.q, mpc.e, mpc.ssObjectID, dias.magTrueVband, dias.band FROM dp03_catalogs_10yr.MPCORB as mpc\n",
      "    INNER JOIN dp03_catalogs_10yr.DiaSource AS dias ON mpc.ssObjectId = dias.ssObjectId\n",
      "    WHERE mpc.q < 1.3 AND mpc.e < 1.0 AND mpc.q/(1-mpc.e) < 4.0;\n",
      "NEO\n",
      "SELECT mpc.incl, mpc.q, mpc.e, mpc.ssObjectID, dias.magTrueVband, dias.band FROM dp03_catalogs_10yr.MPCORB as mpc\n",
      "    INNER JOIN dp03_catalogs_10yr.DiaSource AS dias ON mpc.ssObjectId = dias.ssObjectId\n",
      "    WHERE mpc.q < 1.3 AND mpc.e < 1.0 AND mpc.q/(1-mpc.e) < 4.0;\n",
      "NEO\n"
     ]
    }
   ],
   "source": [
    "# testing with NEOs\n",
    "query, object_type = q.make_query_general(object_type = \"NEO\", join = 'Diasource')\n",
    "print(query)\n",
    "print(object_type)\n",
    "\n",
    "query, object_type = q.make_query_general(q_cutoff=1.3, a_cutoff=4.0, e_cutoff = 1.0, join = 'Diasource')\n",
    "print(query)\n",
    "print(object_type) "
   ]
  },
  {
   "cell_type": "code",
   "execution_count": 4,
   "id": "0158e102-6948-4f4c-ab3a-57f1c9b2a4d3",
   "metadata": {
    "execution": {
     "iopub.execute_input": "2025-07-02T15:47:08.156827Z",
     "iopub.status.busy": "2025-07-02T15:47:08.156168Z",
     "iopub.status.idle": "2025-07-02T15:52:45.165649Z",
     "shell.execute_reply": "2025-07-02T15:52:45.165048Z",
     "shell.execute_reply.started": "2025-07-02T15:47:08.156799Z"
    }
   },
   "outputs": [
    {
     "name": "stdout",
     "output_type": "stream",
     "text": [
      "Job phase is COMPLETED\n",
      "     incl              q                  e          ... magTrueVband band\n",
      "     deg               AU                            ...                  \n",
      "-------------- ------------------ ------------------ ... ------------ ----\n",
      "9.299357471305 1.0442646753695681 0.5038040861600521 ...     22.00147    z\n",
      "9.299357471305 1.0442646753695681 0.5038040861600521 ...    22.000353    i\n",
      "9.299357471305 1.0442646753695681 0.5038040861600521 ...    21.968763    r\n",
      "9.299357471305 1.0442646753695681 0.5038040861600521 ...    22.549915    z\n",
      "9.299357471305 1.0442646753695681 0.5038040861600521 ...    21.820671    r\n"
     ]
    }
   ],
   "source": [
    "# running the query\n",
    "NEO_objects_table = q.run_query(query)"
   ]
  },
  {
   "cell_type": "code",
   "execution_count": 7,
   "id": "f71a0459-6b46-4f76-b8fa-3d321134e589",
   "metadata": {
    "execution": {
     "iopub.execute_input": "2025-07-02T15:53:23.056738Z",
     "iopub.status.busy": "2025-07-02T15:53:23.055977Z",
     "iopub.status.idle": "2025-07-02T15:53:23.127669Z",
     "shell.execute_reply": "2025-07-02T15:53:23.127107Z",
     "shell.execute_reply.started": "2025-07-02T15:53:23.056709Z"
    }
   },
   "outputs": [
    {
     "name": "stdout",
     "output_type": "stream",
     "text": [
      "     incl              q          ...         a          object_type\n",
      "     deg               AU         ...                               \n",
      "-------------- ------------------ ... ------------------ -----------\n",
      "9.299357471305 1.0442646753695681 ... 2.1045410617919846         NEO\n",
      "9.299357471305 1.0442646753695681 ... 2.1045410617919846         NEO\n",
      "9.299357471305 1.0442646753695681 ... 2.1045410617919846         NEO\n",
      "9.299357471305 1.0442646753695681 ... 2.1045410617919846         NEO\n",
      "9.299357471305 1.0442646753695681 ... 2.1045410617919846         NEO\n",
      "<TableColumns names=('incl','q','e','ssObjectID','magTrueVband','band','a','object_type')>\n"
     ]
    }
   ],
   "source": [
    "# Adding calculated + object_type columns to data table\n",
    "a = q.calc_semimajor_axis(NEO_objects_table['q'], NEO_objects_table['e'])\n",
    "NEO_objects_table['a'] = a\n",
    "NEO_objects_table['object_type'] = object_type\n",
    "\n",
    "print(NEO_objects_table[0:5]) # print first few rows \n",
    "print(NEO_objects_table.columns)"
   ]
  },
  {
   "cell_type": "code",
   "execution_count": 8,
   "id": "a6b90ace-fc3b-46a0-aa36-bbf02721b0ba",
   "metadata": {
    "execution": {
     "iopub.execute_input": "2025-07-02T15:53:33.734637Z",
     "iopub.status.busy": "2025-07-02T15:53:33.733942Z",
     "iopub.status.idle": "2025-07-02T15:53:33.755862Z",
     "shell.execute_reply": "2025-07-02T15:53:33.755153Z",
     "shell.execute_reply.started": "2025-07-02T15:53:33.734608Z"
    }
   },
   "outputs": [
    {
     "ename": "UnboundLocalError",
     "evalue": "cannot access local variable 'object_type' where it is not associated with a value",
     "output_type": "error",
     "traceback": [
      "\u001b[0;31m---------------------------------------------------------------------------\u001b[0m",
      "\u001b[0;31mUnboundLocalError\u001b[0m                         Traceback (most recent call last)",
      "Cell \u001b[0;32mIn[8], line 1\u001b[0m\n\u001b[0;32m----> 1\u001b[0m \u001b[43mq\u001b[49m\u001b[38;5;241;43m.\u001b[39;49m\u001b[43mplot_data\u001b[49m\u001b[43m(\u001b[49m\u001b[43mNEO_objects_table\u001b[49m\u001b[43m)\u001b[49m\n\u001b[1;32m      2\u001b[0m \u001b[38;5;66;03m# # Manual Plotting Code \u001b[39;00m\n\u001b[1;32m      3\u001b[0m \u001b[38;5;66;03m# fig, ax = plt.subplots()\u001b[39;00m\n\u001b[1;32m      4\u001b[0m \u001b[38;5;66;03m# # plt.xlim([0., 4.])\u001b[39;00m\n\u001b[0;32m   (...)\u001b[0m\n\u001b[1;32m     12\u001b[0m \u001b[38;5;66;03m# ax.grid()\u001b[39;00m\n\u001b[1;32m     13\u001b[0m \u001b[38;5;66;03m# plt.show()\u001b[39;00m\n",
      "File \u001b[0;32m~/notebooks/rsp_queries/sso_query/query.py:227\u001b[0m, in \u001b[0;36mplot_data\u001b[0;34m(data_table)\u001b[0m\n\u001b[1;32m    221\u001b[0m \u001b[38;5;28;01mdef\u001b[39;00m\u001b[38;5;250m \u001b[39m\u001b[38;5;21mplot_data\u001b[39m(data_table):\n\u001b[1;32m    222\u001b[0m \u001b[38;5;250m    \u001b[39m\u001b[38;5;124;03m\"\"\"\u001b[39;00m\n\u001b[1;32m    223\u001b[0m \u001b[38;5;124;03m    Function that creates  a vs. e, a vs. i plots using the returned data table from the original query.\u001b[39;00m\n\u001b[1;32m    224\u001b[0m \u001b[38;5;124;03m    Args:\u001b[39;00m\n\u001b[1;32m    225\u001b[0m \u001b[38;5;124;03m        data_table: Astropy table from query. \u001b[39;00m\n\u001b[1;32m    226\u001b[0m \u001b[38;5;124;03m    \"\"\"\u001b[39;00m\n\u001b[0;32m--> 227\u001b[0m     \u001b[38;5;28;01mif\u001b[39;00m \u001b[43mobject_type\u001b[49m \u001b[38;5;129;01mnot\u001b[39;00m \u001b[38;5;129;01min\u001b[39;00m data_table\u001b[38;5;241m.\u001b[39mcolumns:\n\u001b[1;32m    228\u001b[0m         \u001b[38;5;28;01mraise\u001b[39;00m \u001b[38;5;167;01mKeyError\u001b[39;00m(\u001b[38;5;124m\"\u001b[39m\u001b[38;5;124mobject_type not a column.\u001b[39m\u001b[38;5;124m\"\u001b[39m)\n\u001b[1;32m    229\u001b[0m     object_type \u001b[38;5;241m=\u001b[39m data_table[\u001b[38;5;124m'\u001b[39m\u001b[38;5;124mobject_type\u001b[39m\u001b[38;5;124m'\u001b[39m][\u001b[38;5;241m0\u001b[39m]\n",
      "\u001b[0;31mUnboundLocalError\u001b[0m: cannot access local variable 'object_type' where it is not associated with a value"
     ]
    }
   ],
   "source": [
    "q.plot_data(NEO_objects_table)\n",
    "# # Manual Plotting Code \n",
    "# fig, ax = plt.subplots()\n",
    "# # plt.xlim([0., 4.])\n",
    "# # plt.ylim([0., 1.])\n",
    "# ax.scatter(NEO_objects_table[\"a\"], NEO_objects_table[\"e\"], s=0.1) # a vs. i\n",
    "# ax.set_xscale('log')\n",
    "# ax.set_xlabel('semimajor axis (au)')\n",
    "# ax.set_ylabel('eccentricity')\n",
    "# ax.set_title(\"a vs. e (NEO)\")\n",
    "# ax.minorticks_on()\n",
    "# ax.grid()\n",
    "# plt.show()"
   ]
  },
  {
   "cell_type": "code",
   "execution_count": 9,
   "id": "9d2ffcd6-0ade-4966-b093-fccc84d648e1",
   "metadata": {
    "execution": {
     "iopub.execute_input": "2025-07-02T15:54:12.759781Z",
     "iopub.status.busy": "2025-07-02T15:54:12.758947Z",
     "iopub.status.idle": "2025-07-02T15:54:13.491305Z",
     "shell.execute_reply": "2025-07-02T15:54:13.490759Z",
     "shell.execute_reply.started": "2025-07-02T15:54:12.759739Z"
    }
   },
   "outputs": [
    {
     "name": "stdout",
     "output_type": "stream",
     "text": [
      "<TableColumns names=('incl','q','e','ssObjectID','magTrueVband','band','a','object_type')>\n",
      "object_type\n",
      "NEO    2135926\n",
      "Name: count, dtype: int64\n"
     ]
    },
    {
     "data": {
      "text/plain": [
       "pandas.core.series.Series"
      ]
     },
     "execution_count": 9,
     "metadata": {},
     "output_type": "execute_result"
    }
   ],
   "source": [
    "# q.type_counts(NEO_objects_table)\n",
    "print(NEO_objects_table.columns)\n",
    "df = NEO_objects_table.to_pandas()\n",
    "print(df['object_type'].value_counts())\n",
    "type(df['object_type'].value_counts())"
   ]
  },
  {
   "cell_type": "markdown",
   "id": "c02721e4-5998-44cf-bdc9-d44dd2c8e38a",
   "metadata": {},
   "source": [
    "#### How many observations for each object? In what filters?"
   ]
  },
  {
   "cell_type": "code",
   "execution_count": 10,
   "id": "5fd03d11-3c7b-4e99-9378-23107b85e997",
   "metadata": {
    "execution": {
     "iopub.execute_input": "2025-07-02T15:54:19.195776Z",
     "iopub.status.busy": "2025-07-02T15:54:19.195446Z",
     "iopub.status.idle": "2025-07-02T15:54:19.217218Z",
     "shell.execute_reply": "2025-07-02T15:54:19.216667Z",
     "shell.execute_reply.started": "2025-07-02T15:54:19.195753Z"
    }
   },
   "outputs": [
    {
     "name": "stdout",
     "output_type": "stream",
     "text": [
      "ssObjectID\n",
      "-6531816816762911299    1708\n",
      "-7495537061370576217    1316\n",
      "-8960445666237157474    1084\n",
      " 5885925787919145121     993\n",
      "-3541095373223286452     991\n",
      "                        ... \n",
      " 8210757616290374451       6\n",
      "-5675138216577684964       6\n",
      "-317670342693814751        6\n",
      "-7554881316084645816       6\n",
      " 4738261344712572538       6\n",
      "Name: count, Length: 39470, dtype: int64\n"
     ]
    }
   ],
   "source": [
    "# need to count observations for each unique object in SSO_id\n",
    "print(df['ssObjectID'].value_counts())"
   ]
  },
  {
   "cell_type": "code",
   "execution_count": 11,
   "id": "2bb5ed55-760a-46f6-8bbd-19e130fd3d76",
   "metadata": {
    "execution": {
     "iopub.execute_input": "2025-07-02T15:54:22.468883Z",
     "iopub.status.busy": "2025-07-02T15:54:22.468052Z",
     "iopub.status.idle": "2025-07-02T15:54:22.562465Z",
     "shell.execute_reply": "2025-07-02T15:54:22.561891Z",
     "shell.execute_reply.started": "2025-07-02T15:54:22.468853Z"
    }
   },
   "outputs": [
    {
     "name": "stdout",
     "output_type": "stream",
     "text": [
      "band\n",
      "r    754794\n",
      "i    686043\n",
      "z    419419\n",
      "g    275670\n",
      "Name: count, dtype: int64\n"
     ]
    }
   ],
   "source": [
    "# unique observations within each filter\n",
    "print(df['band'].value_counts())"
   ]
  },
  {
   "cell_type": "code",
   "execution_count": 17,
   "id": "85a778c2-2228-4ac2-beed-6cdacc57ae47",
   "metadata": {
    "execution": {
     "iopub.execute_input": "2025-07-02T16:02:30.276002Z",
     "iopub.status.busy": "2025-07-02T16:02:30.275596Z",
     "iopub.status.idle": "2025-07-02T16:02:30.442089Z",
     "shell.execute_reply": "2025-07-02T16:02:30.441548Z",
     "shell.execute_reply.started": "2025-07-02T16:02:30.275974Z"
    }
   },
   "outputs": [
    {
     "name": "stdout",
     "output_type": "stream",
     "text": [
      "                 ssObjectID band  obs_filter_count\n",
      "0      -9222952578217572358    g                 4\n",
      "1      -9222952578217572358    i                11\n",
      "2      -9222952578217572358    r                12\n",
      "3      -9222952578217572358    z                 6\n",
      "4      -9222820784385736130    g                 7\n",
      "...                     ...  ...               ...\n",
      "153755  9222765823057774610    z                 4\n",
      "153756  9222996671474961129    g                 1\n",
      "153757  9222996671474961129    i                 5\n",
      "153758  9222996671474961129    r                 7\n",
      "153759  9222996671474961129    z                 4\n",
      "\n",
      "[153760 rows x 3 columns]\n"
     ]
    }
   ],
   "source": [
    "# count of unique observations for each unique object in SSO_id within each filter\n",
    "print(df.groupby(['ssObjectID', 'band']).size().reset_index(name='obs_filter_count'))\n"
   ]
  },
  {
   "cell_type": "markdown",
   "id": "baecc079-a6f4-4a0e-95ca-4081107ef871",
   "metadata": {},
   "source": [
    "#### What is the average magnitude range? Does any object have an unusually large range?"
   ]
  },
  {
   "cell_type": "code",
   "execution_count": 6,
   "id": "5c10ba3a-bfd8-4a68-838e-a7233a215e66",
   "metadata": {
    "execution": {
     "iopub.execute_input": "2025-07-01T17:22:24.204783Z",
     "iopub.status.busy": "2025-07-01T17:22:24.204534Z",
     "iopub.status.idle": "2025-07-01T17:22:24.425746Z",
     "shell.execute_reply": "2025-07-01T17:22:24.425092Z",
     "shell.execute_reply.started": "2025-07-01T17:22:24.204767Z"
    }
   },
   "outputs": [
    {
     "data": {
      "text/html": [
       "<div>\n",
       "<style scoped>\n",
       "    .dataframe tbody tr th:only-of-type {\n",
       "        vertical-align: middle;\n",
       "    }\n",
       "\n",
       "    .dataframe tbody tr th {\n",
       "        vertical-align: top;\n",
       "    }\n",
       "\n",
       "    .dataframe thead th {\n",
       "        text-align: right;\n",
       "    }\n",
       "</style>\n",
       "<table border=\"1\" class=\"dataframe\">\n",
       "  <thead>\n",
       "    <tr style=\"text-align: right;\">\n",
       "      <th></th>\n",
       "      <th>column_name</th>\n",
       "      <th>datatype</th>\n",
       "      <th>description</th>\n",
       "      <th>unit</th>\n",
       "    </tr>\n",
       "  </thead>\n",
       "  <tbody>\n",
       "    <tr>\n",
       "      <th>0</th>\n",
       "      <td>band</td>\n",
       "      <td>char</td>\n",
       "      <td>Name of the band used to take the exposure whe...</td>\n",
       "      <td></td>\n",
       "    </tr>\n",
       "    <tr>\n",
       "      <th>1</th>\n",
       "      <td>ccdVisitId</td>\n",
       "      <td>int</td>\n",
       "      <td>Id of the ccdVisit where this diaSource was me...</td>\n",
       "      <td></td>\n",
       "    </tr>\n",
       "    <tr>\n",
       "      <th>2</th>\n",
       "      <td>dec</td>\n",
       "      <td>double</td>\n",
       "      <td>Dec-coordinate of the center of this diaSource.</td>\n",
       "      <td>deg</td>\n",
       "    </tr>\n",
       "    <tr>\n",
       "      <th>3</th>\n",
       "      <td>decErr</td>\n",
       "      <td>float</td>\n",
       "      <td>Uncertainty of dec.</td>\n",
       "      <td>deg</td>\n",
       "    </tr>\n",
       "    <tr>\n",
       "      <th>4</th>\n",
       "      <td>decTrue</td>\n",
       "      <td>double</td>\n",
       "      <td>True (noiseless) declination of the simulated ...</td>\n",
       "      <td></td>\n",
       "    </tr>\n",
       "    <tr>\n",
       "      <th>5</th>\n",
       "      <td>diaObjectId</td>\n",
       "      <td>long</td>\n",
       "      <td>Id of the diaObject this source was associated...</td>\n",
       "      <td></td>\n",
       "    </tr>\n",
       "    <tr>\n",
       "      <th>6</th>\n",
       "      <td>diaSourceId</td>\n",
       "      <td>long</td>\n",
       "      <td>Unique id.</td>\n",
       "      <td></td>\n",
       "    </tr>\n",
       "    <tr>\n",
       "      <th>7</th>\n",
       "      <td>mag</td>\n",
       "      <td>float</td>\n",
       "      <td>Magnitude. This is a placeholder and should be...</td>\n",
       "      <td></td>\n",
       "    </tr>\n",
       "    <tr>\n",
       "      <th>8</th>\n",
       "      <td>magErr</td>\n",
       "      <td>float</td>\n",
       "      <td>Magnitude error. This is a placeholder and sho...</td>\n",
       "      <td></td>\n",
       "    </tr>\n",
       "    <tr>\n",
       "      <th>9</th>\n",
       "      <td>magTrueVband</td>\n",
       "      <td>float</td>\n",
       "      <td>True (noiseless) V-band magnitude of the simul...</td>\n",
       "      <td></td>\n",
       "    </tr>\n",
       "    <tr>\n",
       "      <th>10</th>\n",
       "      <td>midPointMjdTai</td>\n",
       "      <td>double</td>\n",
       "      <td>Effective mid-exposure time for this diaSource.</td>\n",
       "      <td>d</td>\n",
       "    </tr>\n",
       "    <tr>\n",
       "      <th>11</th>\n",
       "      <td>nameTrue</td>\n",
       "      <td>char</td>\n",
       "      <td>MPC or simulation designation of the moving ob...</td>\n",
       "      <td></td>\n",
       "    </tr>\n",
       "    <tr>\n",
       "      <th>12</th>\n",
       "      <td>ra</td>\n",
       "      <td>double</td>\n",
       "      <td>RA-coordinate of the center of this diaSource.</td>\n",
       "      <td>deg</td>\n",
       "    </tr>\n",
       "    <tr>\n",
       "      <th>13</th>\n",
       "      <td>ra_dec_Cov</td>\n",
       "      <td>float</td>\n",
       "      <td>Covariance between ra and dec.</td>\n",
       "      <td>deg**2</td>\n",
       "    </tr>\n",
       "    <tr>\n",
       "      <th>14</th>\n",
       "      <td>raErr</td>\n",
       "      <td>float</td>\n",
       "      <td>Uncertainty of ra.</td>\n",
       "      <td>deg</td>\n",
       "    </tr>\n",
       "    <tr>\n",
       "      <th>15</th>\n",
       "      <td>raTrue</td>\n",
       "      <td>double</td>\n",
       "      <td>True (noiseless) right ascension of the simula...</td>\n",
       "      <td></td>\n",
       "    </tr>\n",
       "    <tr>\n",
       "      <th>16</th>\n",
       "      <td>snr</td>\n",
       "      <td>float</td>\n",
       "      <td>The signal-to-noise ratio at which this source...</td>\n",
       "      <td></td>\n",
       "    </tr>\n",
       "    <tr>\n",
       "      <th>17</th>\n",
       "      <td>ssObjectId</td>\n",
       "      <td>long</td>\n",
       "      <td>Id of the ssObject this source was associated ...</td>\n",
       "      <td></td>\n",
       "    </tr>\n",
       "    <tr>\n",
       "      <th>18</th>\n",
       "      <td>ssObjectReassocTime</td>\n",
       "      <td>double</td>\n",
       "      <td>Time (MJD) when this diaSource was reassociate...</td>\n",
       "      <td>d</td>\n",
       "    </tr>\n",
       "  </tbody>\n",
       "</table>\n",
       "</div>"
      ],
      "text/plain": [
       "            column_name datatype  \\\n",
       "0                  band     char   \n",
       "1            ccdVisitId      int   \n",
       "2                   dec   double   \n",
       "3                decErr    float   \n",
       "4               decTrue   double   \n",
       "5           diaObjectId     long   \n",
       "6           diaSourceId     long   \n",
       "7                   mag    float   \n",
       "8                magErr    float   \n",
       "9          magTrueVband    float   \n",
       "10       midPointMjdTai   double   \n",
       "11             nameTrue     char   \n",
       "12                   ra   double   \n",
       "13           ra_dec_Cov    float   \n",
       "14                raErr    float   \n",
       "15               raTrue   double   \n",
       "16                  snr    float   \n",
       "17           ssObjectId     long   \n",
       "18  ssObjectReassocTime   double   \n",
       "\n",
       "                                          description    unit  \n",
       "0   Name of the band used to take the exposure whe...          \n",
       "1   Id of the ccdVisit where this diaSource was me...          \n",
       "2     Dec-coordinate of the center of this diaSource.     deg  \n",
       "3                                 Uncertainty of dec.     deg  \n",
       "4   True (noiseless) declination of the simulated ...          \n",
       "5   Id of the diaObject this source was associated...          \n",
       "6                                          Unique id.          \n",
       "7   Magnitude. This is a placeholder and should be...          \n",
       "8   Magnitude error. This is a placeholder and sho...          \n",
       "9   True (noiseless) V-band magnitude of the simul...          \n",
       "10    Effective mid-exposure time for this diaSource.       d  \n",
       "11  MPC or simulation designation of the moving ob...          \n",
       "12     RA-coordinate of the center of this diaSource.     deg  \n",
       "13                     Covariance between ra and dec.  deg**2  \n",
       "14                                 Uncertainty of ra.     deg  \n",
       "15  True (noiseless) right ascension of the simula...          \n",
       "16  The signal-to-noise ratio at which this source...          \n",
       "17  Id of the ssObject this source was associated ...          \n",
       "18  Time (MJD) when this diaSource was reassociate...       d  "
      ]
     },
     "execution_count": 6,
     "metadata": {},
     "output_type": "execute_result"
    }
   ],
   "source": [
    "service = get_tap_service(\"ssotap\")\n",
    "assert service is not None\n",
    "results = service.search(\"SELECT column_name, datatype, description, \"\n",
    "                         \"unit from TAP_SCHEMA.columns \"\n",
    "                         \"WHERE table_name = 'dp03_catalogs_10yr.DiaSource'\")\n",
    "results.to_table().to_pandas()"
   ]
  },
  {
   "cell_type": "code",
   "execution_count": 7,
   "id": "30bfff74-a489-4986-8230-633759c1cb56",
   "metadata": {
    "execution": {
     "iopub.execute_input": "2025-07-01T17:22:24.426561Z",
     "iopub.status.busy": "2025-07-01T17:22:24.426349Z",
     "iopub.status.idle": "2025-07-01T17:22:24.430509Z",
     "shell.execute_reply": "2025-07-01T17:22:24.429824Z",
     "shell.execute_reply.started": "2025-07-01T17:22:24.426542Z"
    }
   },
   "outputs": [
    {
     "data": {
      "text/plain": [
       "np.str_('True (noiseless) V-band magnitude of the simulated diaSource')"
      ]
     },
     "execution_count": 7,
     "metadata": {},
     "output_type": "execute_result"
    }
   ],
   "source": [
    "results['description'][9]"
   ]
  },
  {
   "cell_type": "code",
   "execution_count": 7,
   "id": "6ac431f5-3ed0-47e3-a710-e062b56e727d",
   "metadata": {
    "execution": {
     "iopub.execute_input": "2025-07-01T17:44:59.909260Z",
     "iopub.status.busy": "2025-07-01T17:44:59.908919Z",
     "iopub.status.idle": "2025-07-01T17:44:59.913908Z",
     "shell.execute_reply": "2025-07-01T17:44:59.913380Z",
     "shell.execute_reply.started": "2025-07-01T17:44:59.909236Z"
    }
   },
   "outputs": [
    {
     "data": {
      "text/plain": [
       "Index(['incl', 'q', 'e', 'ssObjectID', 'magTrueVband', 'a'], dtype='object')"
      ]
     },
     "execution_count": 7,
     "metadata": {},
     "output_type": "execute_result"
    }
   ],
   "source": [
    "df.columns"
   ]
  },
  {
   "cell_type": "code",
   "execution_count": 9,
   "id": "87ecd59d-3285-4148-b0c3-24e20dc37c4e",
   "metadata": {
    "execution": {
     "iopub.execute_input": "2025-07-01T17:45:16.196942Z",
     "iopub.status.busy": "2025-07-01T17:45:16.195805Z",
     "iopub.status.idle": "2025-07-01T17:45:16.214353Z",
     "shell.execute_reply": "2025-07-01T17:45:16.213712Z",
     "shell.execute_reply.started": "2025-07-01T17:45:16.196903Z"
    }
   },
   "outputs": [
    {
     "name": "stdout",
     "output_type": "stream",
     "text": [
      "Index(['incl', 'q', 'e', 'ssObjectID', 'magTrueVband', 'a', 'Class'], dtype='object')\n",
      "                       mag_mean\n",
      "ssObjectID                     \n",
      "-9148239178685334337  21.998495\n",
      "-9107056889034294513  32.579948\n",
      "-9095432462150332340  18.361084\n",
      "-8998070713432935796  19.151974\n",
      "-8962368697841326271  21.892792\n",
      "...                         ...\n",
      " 8906832681098804506  21.802177\n",
      " 9010956620758146911  22.967888\n",
      " 9022961864831958355  21.921072\n",
      " 9034671437756444180  32.840210\n",
      " 9117326962743268631  23.037796\n",
      "\n",
      "[492 rows x 1 columns]\n"
     ]
    }
   ],
   "source": [
    "# need to group by unique ssObjectID values\n",
    "# create new dataframe to hold average of each group \n",
    "\n",
    "print(df.columns)\n",
    "\n",
    "mag_data = df.groupby(['ssObjectID']).agg(\n",
    "    mag_mean = ('magTrueVband', 'mean'))\n",
    "\n",
    "print(mag_data)"
   ]
  },
  {
   "cell_type": "markdown",
   "id": "ab604fda-2b69-4d32-ba61-1550dda6395b",
   "metadata": {},
   "source": [
    "#### Now need to look at the average range\n",
    "For each object, need to find the average range? So, min and max for each observation?\n",
    "-> I think this means the average range by object type, so I'm going to group by object type, then find min and max V values from each object type"
   ]
  },
  {
   "cell_type": "code",
   "execution_count": 10,
   "id": "64150ba1-d5c8-4086-9981-45cbf5ad846f",
   "metadata": {
    "execution": {
     "iopub.execute_input": "2025-07-01T17:45:22.128541Z",
     "iopub.status.busy": "2025-07-01T17:45:22.127496Z",
     "iopub.status.idle": "2025-07-01T17:45:22.139787Z",
     "shell.execute_reply": "2025-07-01T17:45:22.139051Z",
     "shell.execute_reply.started": "2025-07-01T17:45:22.128500Z"
    }
   },
   "outputs": [
    {
     "data": {
      "text/plain": [
       "Class\n",
       "NEO    12.841971\n",
       "Name: magTrueVband, dtype: float32"
      ]
     },
     "execution_count": 10,
     "metadata": {},
     "output_type": "execute_result"
    }
   ],
   "source": [
    "df.groupby('Class')['magTrueVband'].min()"
   ]
  },
  {
   "cell_type": "code",
   "execution_count": 11,
   "id": "546c0649-5c1b-4487-8a60-7ce3b279e2fa",
   "metadata": {
    "execution": {
     "iopub.execute_input": "2025-07-01T17:45:26.161618Z",
     "iopub.status.busy": "2025-07-01T17:45:26.161119Z",
     "iopub.status.idle": "2025-07-01T17:45:26.170173Z",
     "shell.execute_reply": "2025-07-01T17:45:26.169527Z",
     "shell.execute_reply.started": "2025-07-01T17:45:26.161579Z"
    }
   },
   "outputs": [
    {
     "data": {
      "text/plain": [
       "Class\n",
       "NEO    35.641945\n",
       "Name: magTrueVband, dtype: float32"
      ]
     },
     "execution_count": 11,
     "metadata": {},
     "output_type": "execute_result"
    }
   ],
   "source": [
    "df.groupby('Class')['magTrueVband'].max()"
   ]
  },
  {
   "cell_type": "code",
   "execution_count": 13,
   "id": "d2236423-84f6-4050-b8bf-3e99fb67eabc",
   "metadata": {
    "execution": {
     "iopub.execute_input": "2025-07-01T17:46:56.112076Z",
     "iopub.status.busy": "2025-07-01T17:46:56.111160Z",
     "iopub.status.idle": "2025-07-01T17:46:56.124433Z",
     "shell.execute_reply": "2025-07-01T17:46:56.123820Z",
     "shell.execute_reply.started": "2025-07-01T17:46:56.112045Z"
    }
   },
   "outputs": [
    {
     "name": "stdout",
     "output_type": "stream",
     "text": [
      "MBA Count: 0\n",
      "NEO Count: 28945\n",
      "TNO Count: 11521\n",
      "Centaur Count: 770\n",
      "LPC Count: 11594\n"
     ]
    }
   ],
   "source": [
    "q.type_counts(DiaSource_joined_table)"
   ]
  }
 ],
 "metadata": {
  "kernelspec": {
   "display_name": "LSST",
   "language": "python",
   "name": "lsst"
  },
  "language_info": {
   "codemirror_mode": {
    "name": "ipython",
    "version": 3
   },
   "file_extension": ".py",
   "mimetype": "text/x-python",
   "name": "python",
   "nbconvert_exporter": "python",
   "pygments_lexer": "ipython3",
   "version": "3.12.11"
  }
 },
 "nbformat": 4,
 "nbformat_minor": 5
}
